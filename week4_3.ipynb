{
  "nbformat": 4,
  "nbformat_minor": 0,
  "metadata": {
    "colab": {
      "provenance": []
    },
    "kernelspec": {
      "name": "python3",
      "display_name": "Python 3"
    },
    "language_info": {
      "name": "python"
    }
  },
  "cells": [
    {
      "cell_type": "code",
      "execution_count": null,
      "metadata": {
        "id": "3QB87pOgfETo"
      },
      "outputs": [],
      "source": []
    },
    {
      "cell_type": "markdown",
      "source": [
        "class method\n",
        "its is a type of global method which may be available or accessible to my all my object\n",
        "-- it going to to create only one instance"
      ],
      "metadata": {
        "id": "Vmq-bAj-jV7g"
      }
    },
    {
      "cell_type": "code",
      "source": [
        "class pwskills:\n",
        "  def __init__(self,name,email):\n",
        "    self.name=name\n",
        "    self.email=email\n",
        "  def student_details(self):\n",
        "    print(self.name,self.email)"
      ],
      "metadata": {
        "id": "jMBZOolOjXW8"
      },
      "execution_count": 16,
      "outputs": []
    },
    {
      "cell_type": "code",
      "source": [
        "pw =pwskills(\"anas\",\"anas@gmail.com\")"
      ],
      "metadata": {
        "id": "VgIGcGWUjrqF"
      },
      "execution_count": 12,
      "outputs": []
    },
    {
      "cell_type": "code",
      "source": [
        "pw.name"
      ],
      "metadata": {
        "colab": {
          "base_uri": "https://localhost:8080/",
          "height": 35
        },
        "id": "MRSpCaEnj4rW",
        "outputId": "ac1cda77-7c81-4d3e-b233-efbd2880ee0e"
      },
      "execution_count": 13,
      "outputs": [
        {
          "output_type": "execute_result",
          "data": {
            "text/plain": [
              "'anas'"
            ],
            "application/vnd.google.colaboratory.intrinsic+json": {
              "type": "string"
            }
          },
          "metadata": {},
          "execution_count": 13
        }
      ]
    },
    {
      "cell_type": "code",
      "source": [
        "pw.email"
      ],
      "metadata": {
        "colab": {
          "base_uri": "https://localhost:8080/",
          "height": 35
        },
        "id": "h1qHIzpUkylO",
        "outputId": "94cf9457-e772-4665-de5e-93adb470e1c7"
      },
      "execution_count": 14,
      "outputs": [
        {
          "output_type": "execute_result",
          "data": {
            "text/plain": [
              "'anas@gmail.com'"
            ],
            "application/vnd.google.colaboratory.intrinsic+json": {
              "type": "string"
            }
          },
          "metadata": {},
          "execution_count": 14
        }
      ]
    },
    {
      "cell_type": "code",
      "source": [
        "pw.student_details()"
      ],
      "metadata": {
        "colab": {
          "base_uri": "https://localhost:8080/"
        },
        "id": "pStACkWJk6vC",
        "outputId": "b67b69f6-1754-4346-d79b-173af9e6f22d"
      },
      "execution_count": 15,
      "outputs": [
        {
          "output_type": "stream",
          "name": "stdout",
          "text": [
            "anas anas@gmail.com\n"
          ]
        }
      ]
    },
    {
      "cell_type": "code",
      "source": [
        "class pwskills1:\n",
        "  def __init__(self,name,email):\n",
        "    self.name=name\n",
        "    self.email=email\n",
        "  @classmethod\n",
        "  def details(cls,name1,email1):\n",
        "    return cls(name1,email1)\n",
        "  def student_details(self):\n",
        "    print(self.name,self.email)"
      ],
      "metadata": {
        "id": "mBDnw_v2k8en"
      },
      "execution_count": 22,
      "outputs": []
    },
    {
      "cell_type": "code",
      "source": [
        "pw1=pwskills1.details(\"mohan\",\"mohan@gmail.com\")"
      ],
      "metadata": {
        "id": "_SSAUZo0ldR4"
      },
      "execution_count": 23,
      "outputs": []
    },
    {
      "cell_type": "code",
      "source": [
        "pw1.name"
      ],
      "metadata": {
        "colab": {
          "base_uri": "https://localhost:8080/",
          "height": 35
        },
        "id": "rlaKVHtuljbc",
        "outputId": "56e63d04-76ff-4afa-b346-9d81ff4544c7"
      },
      "execution_count": 24,
      "outputs": [
        {
          "output_type": "execute_result",
          "data": {
            "text/plain": [
              "'mohan'"
            ],
            "application/vnd.google.colaboratory.intrinsic+json": {
              "type": "string"
            }
          },
          "metadata": {},
          "execution_count": 24
        }
      ]
    },
    {
      "cell_type": "code",
      "source": [
        "pw1.email"
      ],
      "metadata": {
        "colab": {
          "base_uri": "https://localhost:8080/",
          "height": 35
        },
        "id": "KJCwPjiXloA5",
        "outputId": "ecc8bfe4-0c47-4ecb-a541-a2183cc14e47"
      },
      "execution_count": 25,
      "outputs": [
        {
          "output_type": "execute_result",
          "data": {
            "text/plain": [
              "'mohan@gmail.com'"
            ],
            "application/vnd.google.colaboratory.intrinsic+json": {
              "type": "string"
            }
          },
          "metadata": {},
          "execution_count": 25
        }
      ]
    },
    {
      "cell_type": "code",
      "source": [
        "pw1.student_details(\n",
        "\n",
        ")"
      ],
      "metadata": {
        "colab": {
          "base_uri": "https://localhost:8080/"
        },
        "id": "Fv07JhRolpal",
        "outputId": "d68ec96e-5981-44a5-d0d6-328a022cb04a"
      },
      "execution_count": 26,
      "outputs": [
        {
          "output_type": "stream",
          "name": "stdout",
          "text": [
            "mohan mohan@gmail.com\n"
          ]
        }
      ]
    },
    {
      "cell_type": "markdown",
      "source": [
        "isntance method is created as per number of object is created"
      ],
      "metadata": {
        "id": "VnHsnQOFpVyM"
      }
    },
    {
      "cell_type": "code",
      "source": [
        "class pwskills2:\n",
        "  mobile_number=915632563\n",
        "  def __init__(self,name,email):\n",
        "    self.name=name\n",
        "    self.email=email\n",
        "\n",
        "  @classmethod                                            #class method\n",
        "  def details(cls,name1,email1):                       #cls that bind to a class\n",
        "    return cls(name1,email1)\n",
        "  def student_details(self):                              #instance method\n",
        "    print(self.name,self.email,pwskills2.mobile_number)"
      ],
      "metadata": {
        "id": "sNv0ywlbl5RE"
      },
      "execution_count": 29,
      "outputs": []
    },
    {
      "cell_type": "code",
      "source": [
        "pwskills2.mobile_number"
      ],
      "metadata": {
        "colab": {
          "base_uri": "https://localhost:8080/"
        },
        "id": "zpZ6Zo6JmLSd",
        "outputId": "c1c23504-83a8-4784-f19b-e1719e617ded"
      },
      "execution_count": 28,
      "outputs": [
        {
          "output_type": "execute_result",
          "data": {
            "text/plain": [
              "915632563"
            ]
          },
          "metadata": {},
          "execution_count": 28
        }
      ]
    },
    {
      "cell_type": "code",
      "source": [
        "pw2=pwskills2.details(\"sohan\",\"sohan@gmail.com\")"
      ],
      "metadata": {
        "id": "d7CWh7XQmOVz"
      },
      "execution_count": 33,
      "outputs": []
    },
    {
      "cell_type": "code",
      "source": [
        "pw2.student_details()"
      ],
      "metadata": {
        "colab": {
          "base_uri": "https://localhost:8080/"
        },
        "id": "KHmrOQb3mbcU",
        "outputId": "63dce96a-8485-4dbd-c14c-55f5d87991d2"
      },
      "execution_count": 34,
      "outputs": [
        {
          "output_type": "stream",
          "name": "stdout",
          "text": [
            "sohan sohan@gmail.com 915632563\n"
          ]
        }
      ]
    },
    {
      "cell_type": "code",
      "source": [
        "pw2_obj=pwskills2(\"rohan\",\"rohan@gmail.com\")"
      ],
      "metadata": {
        "id": "dNQCrC82mlvU"
      },
      "execution_count": 38,
      "outputs": []
    },
    {
      "cell_type": "code",
      "source": [
        "pw2_obj.student_details(\n",
        "\n",
        ")"
      ],
      "metadata": {
        "colab": {
          "base_uri": "https://localhost:8080/"
        },
        "id": "4p3UnNzdms7l",
        "outputId": "ab88b0ea-da01-4970-a681-513020496835"
      },
      "execution_count": 39,
      "outputs": [
        {
          "output_type": "stream",
          "name": "stdout",
          "text": [
            "rohan rohan@gmail.com 915632563\n"
          ]
        }
      ]
    },
    {
      "cell_type": "code",
      "source": [
        "class pwskills2:\n",
        "  mobile_number=915632563\n",
        "  def __init__(self,name,email):\n",
        "    self.name=name\n",
        "    self.email=email\n",
        "  @classmethod\n",
        "  def change_number(cls,mobile):\n",
        "    pwskills2.mobile_number=mobile\n",
        "  @classmethod                                            #class method\n",
        "  def details(cls,name1,email1):                       #cls that bind to a class\n",
        "    return cls(name1,email1)\n",
        "  def student_details(self):                              #instance method\n",
        "    print(self.name,self.email,pwskills2.mobile_number)"
      ],
      "metadata": {
        "id": "pPFpk6bBmvOt"
      },
      "execution_count": 40,
      "outputs": []
    },
    {
      "cell_type": "code",
      "source": [
        "pwskills2.mobile_number"
      ],
      "metadata": {
        "colab": {
          "base_uri": "https://localhost:8080/"
        },
        "id": "3MXle11Pnx1G",
        "outputId": "0ae058aa-cc7e-4621-92e7-aa80c59b3a53"
      },
      "execution_count": 42,
      "outputs": [
        {
          "output_type": "execute_result",
          "data": {
            "text/plain": [
              "915632563"
            ]
          },
          "metadata": {},
          "execution_count": 42
        }
      ]
    },
    {
      "cell_type": "code",
      "source": [
        "pwskills2.change_number(123446)"
      ],
      "metadata": {
        "id": "AthqKtKan5QN"
      },
      "execution_count": 43,
      "outputs": []
    },
    {
      "cell_type": "code",
      "source": [
        "pwskills2.mobile_number"
      ],
      "metadata": {
        "colab": {
          "base_uri": "https://localhost:8080/"
        },
        "id": "uclPWYk3n_d8",
        "outputId": "7df7171a-37e8-4388-fb5a-69c1a6485f69"
      },
      "execution_count": 44,
      "outputs": [
        {
          "output_type": "execute_result",
          "data": {
            "text/plain": [
              "123446"
            ]
          },
          "metadata": {},
          "execution_count": 44
        }
      ]
    },
    {
      "cell_type": "code",
      "source": [
        "pw2_obj=pwskills2(\"sohail\",\"sohail@gmail.com\")"
      ],
      "metadata": {
        "id": "wkLzg0HVoDHy"
      },
      "execution_count": 45,
      "outputs": []
    },
    {
      "cell_type": "code",
      "source": [
        "pw2_obj.details(\"anas\",\"anas@mgmail.com\")"
      ],
      "metadata": {
        "colab": {
          "base_uri": "https://localhost:8080/"
        },
        "id": "Daq-gU9xoRS_",
        "outputId": "cda45905-2a13-4a16-e2aa-12f128e2c86c"
      },
      "execution_count": 47,
      "outputs": [
        {
          "output_type": "execute_result",
          "data": {
            "text/plain": [
              "<__main__.pwskills2 at 0x793a11982320>"
            ]
          },
          "metadata": {},
          "execution_count": 47
        }
      ]
    },
    {
      "cell_type": "code",
      "source": [
        "pw2_obj.name"
      ],
      "metadata": {
        "colab": {
          "base_uri": "https://localhost:8080/",
          "height": 35
        },
        "id": "nTVUpmRQoXnF",
        "outputId": "6341911b-61e1-45e4-dd62-2cb0bcdf4b05"
      },
      "execution_count": 51,
      "outputs": [
        {
          "output_type": "execute_result",
          "data": {
            "text/plain": [
              "'sohail'"
            ],
            "application/vnd.google.colaboratory.intrinsic+json": {
              "type": "string"
            }
          },
          "metadata": {},
          "execution_count": 51
        }
      ]
    },
    {
      "cell_type": "code",
      "source": [
        "pw2_obj.email"
      ],
      "metadata": {
        "colab": {
          "base_uri": "https://localhost:8080/",
          "height": 35
        },
        "id": "JInHpyPIoieb",
        "outputId": "52d50798-a62a-44ca-e7ea-937489c96f07"
      },
      "execution_count": 52,
      "outputs": [
        {
          "output_type": "execute_result",
          "data": {
            "text/plain": [
              "'sohail@gmail.com'"
            ],
            "application/vnd.google.colaboratory.intrinsic+json": {
              "type": "string"
            }
          },
          "metadata": {},
          "execution_count": 52
        }
      ]
    },
    {
      "cell_type": "code",
      "source": [
        "class pwskills3:\n",
        "  mobile_number=915632563\n",
        "  def __init__(self,name,email):\n",
        "    self.name=name\n",
        "    self.email=email\n",
        "  @classmethod\n",
        "  def change_number(cls,mobile):\n",
        "    pwskills2.mobile_number=mobile\n",
        "  @classmethod                                            #class method\n",
        "  def details(cls,name1,email1):                       #cls that bind to a class\n",
        "    return cls(name1,email1)\n",
        "  def student_details(self):                              #instance method\n",
        "    print(self.name,self.email,pwskills2.mobile_number)"
      ],
      "metadata": {
        "id": "410hjdCWou5G"
      },
      "execution_count": 60,
      "outputs": []
    },
    {
      "cell_type": "code",
      "source": [
        "def course_details(cls,course_name):\n",
        "  print(\"course details\",course_name)"
      ],
      "metadata": {
        "id": "bQ2XinMVpuUy"
      },
      "execution_count": 54,
      "outputs": []
    },
    {
      "cell_type": "code",
      "source": [
        "pwskills3.course_details=classmethod(course_details)"
      ],
      "metadata": {
        "id": "jkLHDnfrp527"
      },
      "execution_count": 56,
      "outputs": []
    },
    {
      "cell_type": "code",
      "source": [
        "pwskills3.course_details(\"data science masters\")"
      ],
      "metadata": {
        "colab": {
          "base_uri": "https://localhost:8080/"
        },
        "id": "bqzio0deqLAN",
        "outputId": "ac950159-8d4e-4f6c-8edd-4f509f56c61b"
      },
      "execution_count": 57,
      "outputs": [
        {
          "output_type": "stream",
          "name": "stdout",
          "text": [
            "course details data science masters\n"
          ]
        }
      ]
    },
    {
      "cell_type": "code",
      "source": [
        "pw3=pwskills3(\"aman\",\"aman@gmail.com\")"
      ],
      "metadata": {
        "id": "W0xnVrTgqj6q"
      },
      "execution_count": 58,
      "outputs": []
    },
    {
      "cell_type": "code",
      "source": [
        "pw3.course_details(\"web dev\")"
      ],
      "metadata": {
        "colab": {
          "base_uri": "https://localhost:8080/"
        },
        "id": "67xeAk5fqr4A",
        "outputId": "f75cb20d-76ed-4329-d619-1ccae06ebc6d"
      },
      "execution_count": 59,
      "outputs": [
        {
          "output_type": "stream",
          "name": "stdout",
          "text": [
            "course details web dev\n"
          ]
        }
      ]
    },
    {
      "cell_type": "code",
      "source": [
        "class pwskills4:\n",
        "  mobile_number=915632563\n",
        "  def __init__(self,name,email):\n",
        "    self.name=name\n",
        "    self.email=email\n",
        "  @classmethod\n",
        "  def change_number(cls,mobile):\n",
        "    pwskills2.mobile_number=mobile\n",
        "  @classmethod                                            #class method\n",
        "  def details(cls,name1,email1):                       #cls that bind to a class\n",
        "    return cls(name1,email1)\n",
        "  def student_details(self):                              #instance method\n",
        "    print(self.name,self.email,pwskills2.mobile_number)"
      ],
      "metadata": {
        "id": "eYwqoa91qyp_"
      },
      "execution_count": 61,
      "outputs": []
    },
    {
      "cell_type": "code",
      "source": [
        "del pwskills4.change_number"
      ],
      "metadata": {
        "id": "9z_UOl7mrAZA"
      },
      "execution_count": 62,
      "outputs": []
    },
    {
      "cell_type": "code",
      "source": [
        "pwskills4.change_number(\"98756\")"
      ],
      "metadata": {
        "colab": {
          "base_uri": "https://localhost:8080/",
          "height": 176
        },
        "id": "1gtLf7IHrHdY",
        "outputId": "0c2b3c7a-78d2-4bce-99a0-f02e3d62d55a"
      },
      "execution_count": 63,
      "outputs": [
        {
          "output_type": "error",
          "ename": "AttributeError",
          "evalue": "type object 'pwskills4' has no attribute 'change_number'",
          "traceback": [
            "\u001b[0;31m---------------------------------------------------------------------------\u001b[0m",
            "\u001b[0;31mAttributeError\u001b[0m                            Traceback (most recent call last)",
            "\u001b[0;32m<ipython-input-63-a182912e8c34>\u001b[0m in \u001b[0;36m<cell line: 1>\u001b[0;34m()\u001b[0m\n\u001b[0;32m----> 1\u001b[0;31m \u001b[0mpwskills4\u001b[0m\u001b[0;34m.\u001b[0m\u001b[0mchange_number\u001b[0m\u001b[0;34m(\u001b[0m\u001b[0;34m\"98756\"\u001b[0m\u001b[0;34m)\u001b[0m\u001b[0;34m\u001b[0m\u001b[0;34m\u001b[0m\u001b[0m\n\u001b[0m",
            "\u001b[0;31mAttributeError\u001b[0m: type object 'pwskills4' has no attribute 'change_number'"
          ]
        }
      ]
    },
    {
      "cell_type": "code",
      "source": [
        "delattr(pwskills4,\"details\")"
      ],
      "metadata": {
        "id": "l4g4Mwk6rMB_"
      },
      "execution_count": 65,
      "outputs": []
    },
    {
      "cell_type": "code",
      "source": [
        "pwskills4.mobile_number"
      ],
      "metadata": {
        "colab": {
          "base_uri": "https://localhost:8080/"
        },
        "id": "Uah5RBy3rXy0",
        "outputId": "82f176a6-7018-4ef5-9e7d-8efa6721b7a7"
      },
      "execution_count": 66,
      "outputs": [
        {
          "output_type": "execute_result",
          "data": {
            "text/plain": [
              "915632563"
            ]
          },
          "metadata": {},
          "execution_count": 66
        }
      ]
    },
    {
      "cell_type": "code",
      "source": [
        "delattr(pwskills4,\"mobile_number\")"
      ],
      "metadata": {
        "id": "QMitqeZOrdYt"
      },
      "execution_count": 68,
      "outputs": []
    },
    {
      "cell_type": "code",
      "source": [
        "pwskills4.mobile_number"
      ],
      "metadata": {
        "colab": {
          "base_uri": "https://localhost:8080/",
          "height": 176
        },
        "id": "yYJ1amLrrk39",
        "outputId": "642e41f5-bb05-4872-e16c-e67224ca55da"
      },
      "execution_count": 69,
      "outputs": [
        {
          "output_type": "error",
          "ename": "AttributeError",
          "evalue": "type object 'pwskills4' has no attribute 'mobile_number'",
          "traceback": [
            "\u001b[0;31m---------------------------------------------------------------------------\u001b[0m",
            "\u001b[0;31mAttributeError\u001b[0m                            Traceback (most recent call last)",
            "\u001b[0;32m<ipython-input-69-9e10270d29eb>\u001b[0m in \u001b[0;36m<cell line: 1>\u001b[0;34m()\u001b[0m\n\u001b[0;32m----> 1\u001b[0;31m \u001b[0mpwskills4\u001b[0m\u001b[0;34m.\u001b[0m\u001b[0mmobile_number\u001b[0m\u001b[0;34m\u001b[0m\u001b[0;34m\u001b[0m\u001b[0m\n\u001b[0m",
            "\u001b[0;31mAttributeError\u001b[0m: type object 'pwskills4' has no attribute 'mobile_number'"
          ]
        }
      ]
    },
    {
      "cell_type": "code",
      "source": [
        "delattr(pwskills4,\"student_details\")"
      ],
      "metadata": {
        "id": "G1BWmZukrq0H"
      },
      "execution_count": 71,
      "outputs": []
    },
    {
      "cell_type": "code",
      "source": [
        "pwskills4.student_details"
      ],
      "metadata": {
        "colab": {
          "base_uri": "https://localhost:8080/",
          "height": 176
        },
        "id": "HufafJqCrxVS",
        "outputId": "cb06e3ce-e464-4a9e-b5b9-e1a756850d4d"
      },
      "execution_count": 72,
      "outputs": [
        {
          "output_type": "error",
          "ename": "AttributeError",
          "evalue": "type object 'pwskills4' has no attribute 'student_details'",
          "traceback": [
            "\u001b[0;31m---------------------------------------------------------------------------\u001b[0m",
            "\u001b[0;31mAttributeError\u001b[0m                            Traceback (most recent call last)",
            "\u001b[0;32m<ipython-input-72-c192ff0f3dc7>\u001b[0m in \u001b[0;36m<cell line: 1>\u001b[0;34m()\u001b[0m\n\u001b[0;32m----> 1\u001b[0;31m \u001b[0mpwskills4\u001b[0m\u001b[0;34m.\u001b[0m\u001b[0mstudent_details\u001b[0m\u001b[0;34m\u001b[0m\u001b[0;34m\u001b[0m\u001b[0m\n\u001b[0m",
            "\u001b[0;31mAttributeError\u001b[0m: type object 'pwskills4' has no attribute 'student_details'"
          ]
        }
      ]
    },
    {
      "cell_type": "code",
      "source": [],
      "metadata": {
        "id": "l_VE4QS_r2jl"
      },
      "execution_count": null,
      "outputs": []
    }
  ]
}