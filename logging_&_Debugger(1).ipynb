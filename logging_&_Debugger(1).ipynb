{
  "nbformat": 4,
  "nbformat_minor": 0,
  "metadata": {
    "colab": {
      "provenance": []
    },
    "kernelspec": {
      "name": "python3",
      "display_name": "Python 3"
    },
    "language_info": {
      "name": "python"
    }
  },
  "cells": [
    {
      "cell_type": "code",
      "execution_count": null,
      "metadata": {
        "colab": {
          "base_uri": "https://localhost:8080/"
        },
        "id": "CAjf_7srCYx8",
        "outputId": "57872e49-4227-4c4e-f708-8100e52158c5"
      },
      "outputs": [
        {
          "output_type": "stream",
          "name": "stdout",
          "text": [
            "this is my print stat\n"
          ]
        }
      ],
      "source": [
        "print(\"this is my print stat\")"
      ]
    },
    {
      "cell_type": "code",
      "source": [
        "import logging"
      ],
      "metadata": {
        "id": "trBn3HKBChkN"
      },
      "execution_count": null,
      "outputs": []
    },
    {
      "cell_type": "code",
      "source": [
        "logging.basicConfig(filename=\"test.log\", level=logging.INFO)"
      ],
      "metadata": {
        "id": "IDYSss37CrcI"
      },
      "execution_count": null,
      "outputs": []
    },
    {
      "cell_type": "code",
      "source": [
        "logging.info(\"this is my line of execution\")"
      ],
      "metadata": {
        "id": "vWtuBI_zDAWM"
      },
      "execution_count": null,
      "outputs": []
    },
    {
      "cell_type": "code",
      "source": [
        "logging.error(\"this is error\")"
      ],
      "metadata": {
        "colab": {
          "base_uri": "https://localhost:8080/"
        },
        "id": "nr9aJSk_DQhp",
        "outputId": "ad7fb27d-79fd-4b9b-a3d4-481cb4320ae2"
      },
      "execution_count": null,
      "outputs": [
        {
          "output_type": "stream",
          "name": "stderr",
          "text": [
            "ERROR:root:this is error\n"
          ]
        }
      ]
    },
    {
      "cell_type": "code",
      "source": [
        "logging.critical(\"this is critical\")"
      ],
      "metadata": {
        "colab": {
          "base_uri": "https://localhost:8080/"
        },
        "id": "-NM9nzUqEsL2",
        "outputId": "f5dc0148-7589-4cbb-da9a-8ef1aa5d6a6b"
      },
      "execution_count": null,
      "outputs": [
        {
          "output_type": "stream",
          "name": "stderr",
          "text": [
            "CRITICAL:root:this is critical\n"
          ]
        }
      ]
    },
    {
      "cell_type": "markdown",
      "source": [
        "                LOGGING\n",
        "1. NOSET\n",
        "2. DEBUG\n",
        "3. INFO\n",
        "4. WARNING\n",
        "5. ERROR\n",
        "6. CRITICAL"
      ],
      "metadata": {
        "id": "Up4V3JKPFOlb"
      }
    },
    {
      "cell_type": "code",
      "source": [
        "logging.noset(\"this is noset\")"
      ],
      "metadata": {
        "colab": {
          "base_uri": "https://localhost:8080/",
          "height": 176
        },
        "id": "wx7Zdc1FExaG",
        "outputId": "339064e0-2d9e-4b23-93b2-388e8ba90744"
      },
      "execution_count": null,
      "outputs": [
        {
          "output_type": "error",
          "ename": "AttributeError",
          "evalue": "module 'logging' has no attribute 'noset'",
          "traceback": [
            "\u001b[0;31m---------------------------------------------------------------------------\u001b[0m",
            "\u001b[0;31mAttributeError\u001b[0m                            Traceback (most recent call last)",
            "\u001b[0;32m<ipython-input-11-b1278a6aeecb>\u001b[0m in \u001b[0;36m<cell line: 1>\u001b[0;34m()\u001b[0m\n\u001b[0;32m----> 1\u001b[0;31m \u001b[0mlogging\u001b[0m\u001b[0;34m.\u001b[0m\u001b[0mnoset\u001b[0m\u001b[0;34m(\u001b[0m\u001b[0;34m\"this is noset\"\u001b[0m\u001b[0;34m)\u001b[0m\u001b[0;34m\u001b[0m\u001b[0;34m\u001b[0m\u001b[0m\n\u001b[0m",
            "\u001b[0;31mAttributeError\u001b[0m: module 'logging' has no attribute 'noset'"
          ]
        }
      ]
    },
    {
      "cell_type": "code",
      "source": [
        "logging.shutdown()"
      ],
      "metadata": {
        "id": "B2KG24OWFlXk"
      },
      "execution_count": null,
      "outputs": []
    },
    {
      "cell_type": "code",
      "source": [
        "logging.basicConfig(filename = \"test1.log\", level = logging.DEBUG, format = '%(asctime)s %(message)s')"
      ],
      "metadata": {
        "id": "tmTlKavGFuiT"
      },
      "execution_count": null,
      "outputs": []
    },
    {
      "cell_type": "code",
      "source": [
        "logging.info(\"this is my info\")"
      ],
      "metadata": {
        "id": "70jkYxgFGDqR"
      },
      "execution_count": null,
      "outputs": []
    },
    {
      "cell_type": "code",
      "source": [
        "logging.debug(\"this is debug\")"
      ],
      "metadata": {
        "id": "0GrifwMuGNV8"
      },
      "execution_count": null,
      "outputs": []
    },
    {
      "cell_type": "code",
      "source": [
        "logging.warning(\"this is warning\")"
      ],
      "metadata": {
        "colab": {
          "base_uri": "https://localhost:8080/"
        },
        "id": "eKnwBEepGR9S",
        "outputId": "d903d5e1-31ec-4e94-c51c-58e782f407e3"
      },
      "execution_count": null,
      "outputs": [
        {
          "output_type": "stream",
          "name": "stderr",
          "text": [
            "WARNING:root:this is warning\n"
          ]
        }
      ]
    },
    {
      "cell_type": "code",
      "source": [
        "logging.shutdown()"
      ],
      "metadata": {
        "id": "G6G_gBuAGYxH"
      },
      "execution_count": null,
      "outputs": []
    },
    {
      "cell_type": "code",
      "source": [
        "l=[1,2,3,4,[5,6,7],\"anas\",\"emash\"] #seperate int and str in seperate list"
      ],
      "metadata": {
        "id": "zuX_TIAGGctv"
      },
      "execution_count": 26,
      "outputs": []
    },
    {
      "cell_type": "code",
      "source": [
        "l1_int = []\n",
        "l2_str = []\n",
        "for i in l:\n",
        "  logging.info(\"this is the start of my first for loop {}\".format(l))\n",
        "  logging.info(\"this is value of i am lgging {}\".format(i))\n",
        "  if type(i)== list:\n",
        "    for  j in i:\n",
        "      if type(j)==int :\n",
        "        l1_int.append(j)\n",
        "  elif type(i) == int :\n",
        "    l1_int.append(i)\n",
        "  else:\n",
        "    if type(i) == str:\n",
        "      l2_str.append(i)\n"
      ],
      "metadata": {
        "id": "AwfmJElaHOg7"
      },
      "execution_count": 30,
      "outputs": []
    },
    {
      "cell_type": "code",
      "source": [
        "l1_int"
      ],
      "metadata": {
        "colab": {
          "base_uri": "https://localhost:8080/"
        },
        "id": "aez1_mlAHv16",
        "outputId": "1f420e20-ac97-4273-a682-25805bc0fef3"
      },
      "execution_count": 28,
      "outputs": [
        {
          "output_type": "execute_result",
          "data": {
            "text/plain": [
              "[1, 2, 3, 4, 5, 6, 7]"
            ]
          },
          "metadata": {},
          "execution_count": 28
        }
      ]
    },
    {
      "cell_type": "code",
      "source": [
        "l2_str"
      ],
      "metadata": {
        "colab": {
          "base_uri": "https://localhost:8080/"
        },
        "id": "pchKkzuWH2Ul",
        "outputId": "04a24a93-4ef6-4ad8-b94d-e2767f7b829c"
      },
      "execution_count": 29,
      "outputs": [
        {
          "output_type": "execute_result",
          "data": {
            "text/plain": [
              "['anas', 'emash']"
            ]
          },
          "metadata": {},
          "execution_count": 29
        }
      ]
    },
    {
      "cell_type": "markdown",
      "source": [
        "Exception handling"
      ],
      "metadata": {
        "id": "W6moNKvLu-TR"
      }
    },
    {
      "cell_type": "code",
      "source": [
        "a=10"
      ],
      "metadata": {
        "id": "ef1h2nQMH4OX"
      },
      "execution_count": 1,
      "outputs": []
    },
    {
      "cell_type": "code",
      "source": [
        "a/0"
      ],
      "metadata": {
        "colab": {
          "base_uri": "https://localhost:8080/",
          "height": 176
        },
        "id": "jX-wcTPkvDFD",
        "outputId": "08199871-aa7d-441e-da63-b51c856cbce7"
      },
      "execution_count": 2,
      "outputs": [
        {
          "output_type": "error",
          "ename": "ZeroDivisionError",
          "evalue": "division by zero",
          "traceback": [
            "\u001b[0;31m---------------------------------------------------------------------------\u001b[0m",
            "\u001b[0;31mZeroDivisionError\u001b[0m                         Traceback (most recent call last)",
            "\u001b[0;32m<ipython-input-2-deacdc4ccabc>\u001b[0m in \u001b[0;36m<cell line: 1>\u001b[0;34m()\u001b[0m\n\u001b[0;32m----> 1\u001b[0;31m \u001b[0ma\u001b[0m\u001b[0;34m/\u001b[0m\u001b[0;36m0\u001b[0m\u001b[0;34m\u001b[0m\u001b[0;34m\u001b[0m\u001b[0m\n\u001b[0m",
            "\u001b[0;31mZeroDivisionError\u001b[0m: division by zero"
          ]
        }
      ]
    },
    {
      "cell_type": "code",
      "source": [
        "f=open(\"test.txt\",'r')\n",
        "print(\"this is print\")"
      ],
      "metadata": {
        "colab": {
          "base_uri": "https://localhost:8080/",
          "height": 193
        },
        "id": "FYCCzL9nvERM",
        "outputId": "6adb43eb-40dd-40df-d76a-2ed070d7cd2a"
      },
      "execution_count": 3,
      "outputs": [
        {
          "output_type": "error",
          "ename": "FileNotFoundError",
          "evalue": "[Errno 2] No such file or directory: 'test.txt'",
          "traceback": [
            "\u001b[0;31m---------------------------------------------------------------------------\u001b[0m",
            "\u001b[0;31mFileNotFoundError\u001b[0m                         Traceback (most recent call last)",
            "\u001b[0;32m<ipython-input-3-dbef09ac02da>\u001b[0m in \u001b[0;36m<cell line: 1>\u001b[0;34m()\u001b[0m\n\u001b[0;32m----> 1\u001b[0;31m \u001b[0mf\u001b[0m\u001b[0;34m=\u001b[0m\u001b[0mopen\u001b[0m\u001b[0;34m(\u001b[0m\u001b[0;34m\"test.txt\"\u001b[0m\u001b[0;34m,\u001b[0m\u001b[0;34m'r'\u001b[0m\u001b[0;34m)\u001b[0m\u001b[0;34m\u001b[0m\u001b[0;34m\u001b[0m\u001b[0m\n\u001b[0m\u001b[1;32m      2\u001b[0m \u001b[0mprint\u001b[0m\u001b[0;34m(\u001b[0m\u001b[0;34m\"this is print\"\u001b[0m\u001b[0;34m)\u001b[0m\u001b[0;34m\u001b[0m\u001b[0;34m\u001b[0m\u001b[0m\n",
            "\u001b[0;31mFileNotFoundError\u001b[0m: [Errno 2] No such file or directory: 'test.txt'"
          ]
        }
      ]
    },
    {
      "cell_type": "code",
      "source": [
        "try:\n",
        "  f=open(\"test.txt\",'r')\n",
        "except Exception as e:\n",
        "  print(\"this is some issue to my code\",e)\n",
        "a=10\n",
        "a"
      ],
      "metadata": {
        "colab": {
          "base_uri": "https://localhost:8080/"
        },
        "id": "XahCctpwvSfd",
        "outputId": "5d261ca3-c292-4687-999c-f5fb4c208c62"
      },
      "execution_count": 8,
      "outputs": [
        {
          "output_type": "stream",
          "name": "stdout",
          "text": [
            "this is some issue to my code [Errno 2] No such file or directory: 'test.txt'\n"
          ]
        },
        {
          "output_type": "execute_result",
          "data": {
            "text/plain": [
              "10"
            ]
          },
          "metadata": {},
          "execution_count": 8
        }
      ]
    },
    {
      "cell_type": "code",
      "source": [
        "try:\n",
        "  f=open(\"test.txt\",'w')\n",
        "  f.write(\"this is my msg\")\n",
        "\n",
        "except Exception as e:\n",
        "  print(\"this is some issue to my code\",e)\n",
        "else:\n",
        "  f.close()\n",
        "  print(\"this block will execute once try will execute itself without exception\")"
      ],
      "metadata": {
        "colab": {
          "base_uri": "https://localhost:8080/"
        },
        "id": "72qzzkCbvyhz",
        "outputId": "2ed7fb3b-4ed6-42cd-de7e-5cfe8e19371c"
      },
      "execution_count": 12,
      "outputs": [
        {
          "output_type": "stream",
          "name": "stdout",
          "text": [
            "this block will execute once try will execute itself without exception\n"
          ]
        }
      ]
    },
    {
      "cell_type": "code",
      "source": [
        "try:\n",
        "  f=open(\"test1.txt\",'r')\n",
        "  f.write(\"this is my msg\")\n",
        "\n",
        "except Exception as e:\n",
        "  print(\"this is some issue to my code\",e)\n",
        "else:\n",
        "  f.close()\n",
        "  print(\"this block will execute once try will execute itself without exception\")\n"
      ],
      "metadata": {
        "colab": {
          "base_uri": "https://localhost:8080/"
        },
        "id": "N7f9ADsvw2WN",
        "outputId": "e331c713-e238-4dce-bec8-abd7331150e6"
      },
      "execution_count": 15,
      "outputs": [
        {
          "output_type": "stream",
          "name": "stdout",
          "text": [
            "this is some issue to my code [Errno 2] No such file or directory: 'test1.txt'\n"
          ]
        }
      ]
    },
    {
      "cell_type": "code",
      "source": [
        "try:\n",
        "  f=open(\"test1.txt\",'r')\n",
        "  f.write(\"this is my msg\")\n",
        "finally: #at any cost you want to execute particular code use \"finally\"\n",
        "  print(\"this will always execute\")"
      ],
      "metadata": {
        "colab": {
          "base_uri": "https://localhost:8080/",
          "height": 263
        },
        "id": "ExeLQ987wQ3q",
        "outputId": "443b1764-8927-4990-8368-8e41620ffe3e"
      },
      "execution_count": 14,
      "outputs": [
        {
          "output_type": "stream",
          "name": "stdout",
          "text": [
            "this will always execute\n"
          ]
        },
        {
          "output_type": "error",
          "ename": "FileNotFoundError",
          "evalue": "[Errno 2] No such file or directory: 'test1.txt'",
          "traceback": [
            "\u001b[0;31m---------------------------------------------------------------------------\u001b[0m",
            "\u001b[0;31mFileNotFoundError\u001b[0m                         Traceback (most recent call last)",
            "\u001b[0;32m<ipython-input-14-80e39462fc46>\u001b[0m in \u001b[0;36m<cell line: 1>\u001b[0;34m()\u001b[0m\n\u001b[1;32m      1\u001b[0m \u001b[0;32mtry\u001b[0m\u001b[0;34m:\u001b[0m\u001b[0;34m\u001b[0m\u001b[0;34m\u001b[0m\u001b[0m\n\u001b[0;32m----> 2\u001b[0;31m   \u001b[0mf\u001b[0m\u001b[0;34m=\u001b[0m\u001b[0mopen\u001b[0m\u001b[0;34m(\u001b[0m\u001b[0;34m\"test1.txt\"\u001b[0m\u001b[0;34m,\u001b[0m\u001b[0;34m'r'\u001b[0m\u001b[0;34m)\u001b[0m\u001b[0;34m\u001b[0m\u001b[0;34m\u001b[0m\u001b[0m\n\u001b[0m\u001b[1;32m      3\u001b[0m   \u001b[0mf\u001b[0m\u001b[0;34m.\u001b[0m\u001b[0mwrite\u001b[0m\u001b[0;34m(\u001b[0m\u001b[0;34m\"this is my msg\"\u001b[0m\u001b[0;34m)\u001b[0m\u001b[0;34m\u001b[0m\u001b[0;34m\u001b[0m\u001b[0m\n\u001b[1;32m      4\u001b[0m \u001b[0;32mfinally\u001b[0m\u001b[0;34m:\u001b[0m\u001b[0;34m\u001b[0m\u001b[0;34m\u001b[0m\u001b[0m\n\u001b[1;32m      5\u001b[0m   \u001b[0mprint\u001b[0m\u001b[0;34m(\u001b[0m\u001b[0;34m\"this will always execute\"\u001b[0m\u001b[0;34m)\u001b[0m\u001b[0;34m\u001b[0m\u001b[0;34m\u001b[0m\u001b[0m\n",
            "\u001b[0;31mFileNotFoundError\u001b[0m: [Errno 2] No such file or directory: 'test1.txt'"
          ]
        }
      ]
    },
    {
      "cell_type": "code",
      "source": [
        "try:\n",
        "  f=open(\"test1.txt\",'w')\n",
        "  f.write(\"this is my msg\")\n",
        "\n",
        "except Exception as e:\n",
        "  print(\"this is some issue to my code\",e)\n",
        "else:\n",
        "  f.close()\n",
        "  print(\"this block will execute once try will execute itself without exception\")\n",
        "finally:\n",
        "  print(\"i will execute always\")"
      ],
      "metadata": {
        "colab": {
          "base_uri": "https://localhost:8080/"
        },
        "id": "P6AChW51xlVE",
        "outputId": "539aef73-2aba-4445-a95c-59f1e300133e"
      },
      "execution_count": 17,
      "outputs": [
        {
          "output_type": "stream",
          "name": "stdout",
          "text": [
            "this block will execute once try will execute itself without exception\n",
            "i will execute always\n"
          ]
        }
      ]
    },
    {
      "cell_type": "markdown",
      "source": [
        "Custom exception handling"
      ],
      "metadata": {
        "id": "JLLwXHWPyrMH"
      }
    },
    {
      "cell_type": "code",
      "source": [
        "age = int(input(\"enter your age\"))"
      ],
      "metadata": {
        "colab": {
          "base_uri": "https://localhost:8080/"
        },
        "id": "kZy_qB_2yCyK",
        "outputId": "cc9ae57c-a353-4898-cd1f-adbc866afe43"
      },
      "execution_count": 19,
      "outputs": [
        {
          "name": "stdout",
          "output_type": "stream",
          "text": [
            "enter your age-9563\n"
          ]
        }
      ]
    },
    {
      "cell_type": "code",
      "source": [
        "class validateage(Exception):\n",
        "  def __init__(self,msg):\n",
        "    self.msg=msg"
      ],
      "metadata": {
        "id": "FGbIk7Ury4Yp"
      },
      "execution_count": 38,
      "outputs": []
    },
    {
      "cell_type": "code",
      "source": [
        "def validate_age(age):\n",
        "  if age < 0: #raise custom keyword for calling custom class\n",
        "    raise validateage(\"age should be not lesser than 0\")\n",
        "  elif age > 200:\n",
        "      raise validateage(\"age is too high\")\n",
        "  else:\n",
        "    print(\"age is valid\")"
      ],
      "metadata": {
        "id": "7jfl1V2GzNCJ"
      },
      "execution_count": 39,
      "outputs": []
    },
    {
      "cell_type": "code",
      "source": [
        "try :\n",
        "  age = int(input(\"enter your age\"))\n",
        "  validate_age(age)\n",
        "except validateage as e:\n",
        "  print(e)"
      ],
      "metadata": {
        "colab": {
          "base_uri": "https://localhost:8080/"
        },
        "id": "1P0NdqAkz5mv",
        "outputId": "859a35b5-e8d1-4983-d80d-e532294ec061"
      },
      "execution_count": 40,
      "outputs": [
        {
          "output_type": "stream",
          "name": "stdout",
          "text": [
            "enter your age201\n",
            "age is too high\n"
          ]
        }
      ]
    },
    {
      "cell_type": "markdown",
      "source": [
        "List of general Use Exception"
      ],
      "metadata": {
        "id": "C618C9gP1nzt"
      }
    },
    {
      "cell_type": "code",
      "source": [
        "try:\n",
        "  a=10\n",
        "  10/0\n",
        "except ZeroDivisionError as e:\n",
        "  print(e)"
      ],
      "metadata": {
        "colab": {
          "base_uri": "https://localhost:8080/"
        },
        "id": "jR5ech4a0nhA",
        "outputId": "64318168-86ea-40e5-cbd5-c378f16d8397"
      },
      "execution_count": 41,
      "outputs": [
        {
          "output_type": "stream",
          "name": "stdout",
          "text": [
            "division by zero\n"
          ]
        }
      ]
    },
    {
      "cell_type": "code",
      "source": [
        "try:\n",
        "  int(\"emash\")\n",
        "except (ValueError , TypeError) as e:\n",
        "  print(e)"
      ],
      "metadata": {
        "colab": {
          "base_uri": "https://localhost:8080/"
        },
        "id": "FRrbE0dw1_Gq",
        "outputId": "e202c334-c5cd-499a-f89b-3993f55b7735"
      },
      "execution_count": 42,
      "outputs": [
        {
          "output_type": "stream",
          "name": "stdout",
          "text": [
            "invalid literal for int() with base 10: 'emash'\n"
          ]
        }
      ]
    },
    {
      "cell_type": "code",
      "source": [
        "try:\n",
        "  int(\"emash\")\n",
        "except :\n",
        "  print(\"this will catch an error\")"
      ],
      "metadata": {
        "colab": {
          "base_uri": "https://localhost:8080/"
        },
        "id": "DAp60TEH2MFl",
        "outputId": "dffc27c3-d359-49e1-8077-524a6e009b23"
      },
      "execution_count": 43,
      "outputs": [
        {
          "output_type": "stream",
          "name": "stdout",
          "text": [
            "this will catch an error\n"
          ]
        }
      ]
    },
    {
      "cell_type": "code",
      "source": [
        "try:\n",
        "  import emash\n",
        "except ImportError as e:\n",
        "  print(e)"
      ],
      "metadata": {
        "colab": {
          "base_uri": "https://localhost:8080/"
        },
        "id": "PdkxnzDH2Wu5",
        "outputId": "46b4482e-b0ed-4bc1-bb6d-95d267ab118a"
      },
      "execution_count": 45,
      "outputs": [
        {
          "output_type": "stream",
          "name": "stdout",
          "text": [
            "No module named 'emash'\n"
          ]
        }
      ]
    },
    {
      "cell_type": "code",
      "source": [
        "try:\n",
        "  d={1: [3,4,5],\"key\" : \"emash\"}\n",
        "  d[\"key10\"]\n",
        "except KeyError as e:\n",
        "  print(e)"
      ],
      "metadata": {
        "colab": {
          "base_uri": "https://localhost:8080/"
        },
        "id": "qyy9B8w32ehM",
        "outputId": "76c55a9d-5098-4432-f78d-23d418feef3b"
      },
      "execution_count": 46,
      "outputs": [
        {
          "output_type": "stream",
          "name": "stdout",
          "text": [
            "'key10'\n"
          ]
        }
      ]
    },
    {
      "cell_type": "code",
      "source": [
        "try:\n",
        "  \"emash\".test()\n",
        "except AttributeError as e:\n",
        "  print(e)"
      ],
      "metadata": {
        "colab": {
          "base_uri": "https://localhost:8080/"
        },
        "id": "15Rz13HE202p",
        "outputId": "82abb8f7-e529-4305-ba17-44be1c8580f0"
      },
      "execution_count": 47,
      "outputs": [
        {
          "output_type": "stream",
          "name": "stdout",
          "text": [
            "'str' object has no attribute 'test'\n"
          ]
        }
      ]
    },
    {
      "cell_type": "code",
      "source": [
        "try:\n",
        "  l=[1,23,4,4]\n",
        "  l[10]\n",
        "except IndexError as e:\n",
        "  print(e)"
      ],
      "metadata": {
        "colab": {
          "base_uri": "https://localhost:8080/"
        },
        "id": "9INfCCY_3BiG",
        "outputId": "73a0e1c5-4484-44be-bd4d-9a40c16380b8"
      },
      "execution_count": 48,
      "outputs": [
        {
          "output_type": "stream",
          "name": "stdout",
          "text": [
            "list index out of range\n"
          ]
        }
      ]
    },
    {
      "cell_type": "code",
      "source": [
        "try:\n",
        "  123+ \"emash\"\n",
        "except TypeError as e:\n",
        "  print(e)"
      ],
      "metadata": {
        "colab": {
          "base_uri": "https://localhost:8080/"
        },
        "id": "swN1r11I3JvS",
        "outputId": "d9e98fe3-481e-41e9-b92d-7398f9569977"
      },
      "execution_count": 49,
      "outputs": [
        {
          "output_type": "stream",
          "name": "stdout",
          "text": [
            "unsupported operand type(s) for +: 'int' and 'str'\n"
          ]
        }
      ]
    },
    {
      "cell_type": "code",
      "source": [
        "try:\n",
        "  with open(\"test23.txt\",\"r\") as f:\n",
        "    f.read()\n",
        "\n",
        "except FileNotFoundError as e:\n",
        "  print(e)\n"
      ],
      "metadata": {
        "colab": {
          "base_uri": "https://localhost:8080/"
        },
        "id": "ftsIMwZU3SHZ",
        "outputId": "852e2dcb-2068-4dea-a256-034351e40703"
      },
      "execution_count": 54,
      "outputs": [
        {
          "output_type": "stream",
          "name": "stdout",
          "text": [
            "[Errno 2] No such file or directory: 'test23.txt'\n"
          ]
        }
      ]
    },
    {
      "cell_type": "code",
      "source": [
        "try:\n",
        "  with open(\"test23.txt\",\"r\") as f:\n",
        "    f.read()\n",
        "except Exception as e:\n",
        "  print(e)\n",
        "except FileNotFoundError as e:\n",
        "  print(\"this is my file not find type error\",e)"
      ],
      "metadata": {
        "colab": {
          "base_uri": "https://localhost:8080/"
        },
        "id": "TYrfyQjQ3j8T",
        "outputId": "76e37054-f2b3-4a7f-c3bf-de89dd2ab0c5"
      },
      "execution_count": 59,
      "outputs": [
        {
          "output_type": "stream",
          "name": "stdout",
          "text": [
            "[Errno 2] No such file or directory: 'test23.txt'\n"
          ]
        }
      ]
    },
    {
      "cell_type": "code",
      "source": [
        "def test(file):\n",
        "  try:\n",
        "    with open(\"test23.txt\",\"r\") as f:\n",
        "      f.read()\n",
        "  except Exception as e:\n",
        "   print(e)\n",
        "  except FileNotFoundError as e:\n",
        "    print(\"this is my file not find type error\",e)"
      ],
      "metadata": {
        "id": "LmaTAJXw4Jvh"
      },
      "execution_count": 61,
      "outputs": []
    },
    {
      "cell_type": "markdown",
      "source": [
        "Best Practice Exception"
      ],
      "metadata": {
        "id": "zwX6Uv_p5UYq"
      }
    },
    {
      "cell_type": "code",
      "source": [
        "#use always a specific exception\n",
        "try:\n",
        "  10/0\n",
        "except ZeroDivisionError as e:\n",
        "  print(e)"
      ],
      "metadata": {
        "colab": {
          "base_uri": "https://localhost:8080/"
        },
        "id": "9UFCkMBF4mt-",
        "outputId": "dbc6710b-8990-475a-d04a-32ed72a7381f"
      },
      "execution_count": 63,
      "outputs": [
        {
          "output_type": "stream",
          "name": "stdout",
          "text": [
            "division by zero\n"
          ]
        }
      ]
    },
    {
      "cell_type": "code",
      "source": [
        "#print always a valid msg\n",
        "try:\n",
        "  10/0\n",
        "except ZeroDivisionError as e:\n",
        "  print(\"this is my zeor division error i am handling\")"
      ],
      "metadata": {
        "colab": {
          "base_uri": "https://localhost:8080/"
        },
        "id": "CmsFEAQ-5uAE",
        "outputId": "f25f5347-4ba9-4fde-b8eb-e7053b8b894f"
      },
      "execution_count": 64,
      "outputs": [
        {
          "output_type": "stream",
          "name": "stdout",
          "text": [
            "this is my zeor division error i am handling\n"
          ]
        }
      ]
    },
    {
      "cell_type": "code",
      "source": [
        "#always try to log\n",
        "import logging\n",
        "logging.basicConfig(filename=\"error.log\",level = logging.ERROR)\n",
        "try:\n",
        "  10/0\n",
        "except ZeroDivisionError as e:\n",
        "  logging.error(\"this is my zeor division error i am handling {}\".format(e))"
      ],
      "metadata": {
        "colab": {
          "base_uri": "https://localhost:8080/"
        },
        "id": "9J3XKEC-6HGN",
        "outputId": "99f32180-c95b-46d6-f6da-3ed3e5114ac5"
      },
      "execution_count": 66,
      "outputs": [
        {
          "output_type": "stream",
          "name": "stderr",
          "text": [
            "ERROR:root:this is my zeor division error i am handling division by zero\n"
          ]
        }
      ]
    },
    {
      "cell_type": "code",
      "source": [
        "#always avoid to srite multilpe exception handling\n",
        "try:\n",
        "  10/0\n",
        "except FileNotFoundError as e:\n",
        "  logging.error(\"this is my file not found  {}\".format(e))\n",
        "except AttributeError as e:\n",
        "  logging.error(\"this is my attribute error  {}\".format(e))\n",
        "except ZeroDivisionError as e:\n",
        "  logging.error(\"this is my zeor division error i am handling {}\".format(e))"
      ],
      "metadata": {
        "colab": {
          "base_uri": "https://localhost:8080/"
        },
        "id": "HAh7Pbn06fzi",
        "outputId": "67496dce-c82c-465b-8d2f-849db9d4c2ab"
      },
      "execution_count": 67,
      "outputs": [
        {
          "output_type": "stream",
          "name": "stderr",
          "text": [
            "ERROR:root:this is my zeor division error i am handling division by zero\n"
          ]
        }
      ]
    },
    {
      "cell_type": "code",
      "source": [
        "#always try to prepare proper documentation\n"
      ],
      "metadata": {
        "id": "PXpqM0N87efv"
      },
      "execution_count": null,
      "outputs": []
    },
    {
      "cell_type": "code",
      "source": [
        "#clean up all the resources\n",
        "try:\n",
        "  with open(\"test.txt\",\"w\") as f:\n",
        "    f.write(\"this is my smg to file\")\n",
        "except FileNotFoundError as e:\n",
        "  logging.error(\"this is ,y file not found {}\".format(e))\n",
        "finally:\n",
        "  f.close()"
      ],
      "metadata": {
        "id": "59RSBbfQ7W8l"
      },
      "execution_count": 69,
      "outputs": []
    },
    {
      "cell_type": "code",
      "source": [],
      "metadata": {
        "id": "tqGza3Oe8B6w"
      },
      "execution_count": null,
      "outputs": []
    }
  ]
}