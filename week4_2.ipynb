{
  "nbformat": 4,
  "nbformat_minor": 0,
  "metadata": {
    "colab": {
      "provenance": []
    },
    "kernelspec": {
      "name": "python3",
      "display_name": "Python 3"
    },
    "language_info": {
      "name": "python"
    }
  },
  "cells": [
    {
      "cell_type": "markdown",
      "source": [
        "**INHERITANCE**"
      ],
      "metadata": {
        "id": "NGOlyA4hwrUy"
      }
    },
    {
      "cell_type": "code",
      "execution_count": 1,
      "metadata": {
        "id": "jSWcXNghwavT"
      },
      "outputs": [],
      "source": [
        "class parent:\n",
        "  def test_parent(self):\n",
        "    print(\"this is muy parent class\")"
      ]
    },
    {
      "cell_type": "code",
      "source": [
        "class child(parent):\n",
        "  pass"
      ],
      "metadata": {
        "id": "cwliYE9Aw3Ps"
      },
      "execution_count": 2,
      "outputs": []
    },
    {
      "cell_type": "code",
      "source": [
        "child_obj=child()"
      ],
      "metadata": {
        "id": "faKz_Rxnw6EE"
      },
      "execution_count": 3,
      "outputs": []
    },
    {
      "cell_type": "code",
      "source": [
        "child_obj.test_parent()"
      ],
      "metadata": {
        "colab": {
          "base_uri": "https://localhost:8080/"
        },
        "id": "w7cgMyYqw8hK",
        "outputId": "55fece18-6fe6-4887-fcd7-e477842481e4"
      },
      "execution_count": 4,
      "outputs": [
        {
          "output_type": "stream",
          "name": "stdout",
          "text": [
            "this is muy parent class\n"
          ]
        }
      ]
    },
    {
      "cell_type": "markdown",
      "source": [
        "multilevel class inheritance example"
      ],
      "metadata": {
        "id": "5heuDjPOyJJ8"
      }
    },
    {
      "cell_type": "code",
      "source": [
        "class class1:\n",
        "  def test_class1(self):\n",
        "    print(\"this is my class1\")"
      ],
      "metadata": {
        "id": "sSgf-KYxw_DY"
      },
      "execution_count": 5,
      "outputs": []
    },
    {
      "cell_type": "code",
      "source": [
        "class class2(class1):\n",
        "  def test_class2(self):\n",
        "    print(\"tihs is my class2\")"
      ],
      "metadata": {
        "id": "GEJgryYDxOHn"
      },
      "execution_count": 6,
      "outputs": []
    },
    {
      "cell_type": "code",
      "source": [
        "class class3(class2):\n",
        "  def test_class3(self):\n",
        "    print(\"this is my class3\")"
      ],
      "metadata": {
        "id": "48yEmU9hxcdJ"
      },
      "execution_count": 7,
      "outputs": []
    },
    {
      "cell_type": "code",
      "source": [
        "obj_class3=class3()"
      ],
      "metadata": {
        "id": "v1tOo7ISxngq"
      },
      "execution_count": 9,
      "outputs": []
    },
    {
      "cell_type": "code",
      "source": [
        "obj_class3.test_class1()"
      ],
      "metadata": {
        "colab": {
          "base_uri": "https://localhost:8080/"
        },
        "id": "szSq-yMQx3dM",
        "outputId": "2b10f67f-7d2f-49ff-85c5-b2dca6f3502b"
      },
      "execution_count": 11,
      "outputs": [
        {
          "output_type": "stream",
          "name": "stdout",
          "text": [
            "this is my class1\n"
          ]
        }
      ]
    },
    {
      "cell_type": "code",
      "source": [
        "obj_class3.test_class2()"
      ],
      "metadata": {
        "colab": {
          "base_uri": "https://localhost:8080/"
        },
        "id": "mqZ4EOp8x-Kn",
        "outputId": "39399950-84c2-4bfc-87a1-c78d2915eb98"
      },
      "execution_count": 12,
      "outputs": [
        {
          "output_type": "stream",
          "name": "stdout",
          "text": [
            "tihs is my class2\n"
          ]
        }
      ]
    },
    {
      "cell_type": "markdown",
      "source": [
        "multiple class inheritacne example"
      ],
      "metadata": {
        "id": "V_UMKtrDyRWb"
      }
    },
    {
      "cell_type": "code",
      "source": [
        "class class1:\n",
        "  def test_class1(self):\n",
        "    print(\"this is my class1\")"
      ],
      "metadata": {
        "id": "v8vG_EeSyDkB"
      },
      "execution_count": 13,
      "outputs": []
    },
    {
      "cell_type": "code",
      "source": [
        "class class2:\n",
        "  def test_class2(self):\n",
        "    print(\"this is my class2\")"
      ],
      "metadata": {
        "id": "1O530AIpyitr"
      },
      "execution_count": 14,
      "outputs": []
    },
    {
      "cell_type": "code",
      "source": [
        "class class3 (class1,class2):\n",
        "  pass\n",
        ""
      ],
      "metadata": {
        "id": "wyFJ3LDwy0Nb"
      },
      "execution_count": 16,
      "outputs": []
    },
    {
      "cell_type": "code",
      "source": [
        "obj_class3=class3()"
      ],
      "metadata": {
        "id": "OMbP5Okhy5ox"
      },
      "execution_count": 17,
      "outputs": []
    },
    {
      "cell_type": "code",
      "source": [
        "obj_class3.test_class1()"
      ],
      "metadata": {
        "colab": {
          "base_uri": "https://localhost:8080/"
        },
        "id": "7gpU9kVOzM0y",
        "outputId": "24b53298-b7a4-4082-9c34-a9e50db69ca9"
      },
      "execution_count": 18,
      "outputs": [
        {
          "output_type": "stream",
          "name": "stdout",
          "text": [
            "this is my class1\n"
          ]
        }
      ]
    },
    {
      "cell_type": "code",
      "source": [
        "obj_class3.test_class2()"
      ],
      "metadata": {
        "colab": {
          "base_uri": "https://localhost:8080/"
        },
        "id": "3W_Gdzg9zROi",
        "outputId": "e9dc009e-49fa-4fe3-822f-ea76ebeccb9e"
      },
      "execution_count": 20,
      "outputs": [
        {
          "output_type": "stream",
          "name": "stdout",
          "text": [
            "this is my class2\n"
          ]
        }
      ]
    },
    {
      "cell_type": "markdown",
      "source": [
        "abstrat class\n"
      ],
      "metadata": {
        "id": "OaxiGuu0XVfQ"
      }
    },
    {
      "cell_type": "code",
      "source": [
        "import abc\n",
        "\n",
        "class pwskills:\n",
        "  @abc.abstractclassmethod\n",
        "  def student_details(self):\n",
        "    pass\n",
        "  @abc.abstractclassmethod\n",
        "  def student_assignment(self):\n",
        "    pass\n",
        "  @abc.abstractclassmethod\n",
        "  def student_marks(self):\n",
        "    pass\n",
        ""
      ],
      "metadata": {
        "id": "549BqNjIzUDI"
      },
      "execution_count": 1,
      "outputs": []
    },
    {
      "cell_type": "code",
      "source": [
        "class data_science(pwskills):\n",
        "  def student_details(self):\n",
        "    return \"this will try to return a details of data science masters\"\n",
        "  def student_assignment(self):\n",
        "    return \"it will return a detail of student assignment for data science masters \""
      ],
      "metadata": {
        "id": "Z04k78h-YWg7"
      },
      "execution_count": 4,
      "outputs": []
    },
    {
      "cell_type": "code",
      "source": [
        "class web_dev(pwskills):\n",
        "  def student_details(self):\n",
        "    return \"this will return a detail of web dev\"\n",
        "  def student_marks(self):\n",
        "    return \"this will return a marks of web dev class\""
      ],
      "metadata": {
        "id": "ktVbpxuUY0MN"
      },
      "execution_count": 5,
      "outputs": []
    },
    {
      "cell_type": "code",
      "source": [
        "ds =data_science()\n",
        "ds.student_details()"
      ],
      "metadata": {
        "colab": {
          "base_uri": "https://localhost:8080/",
          "height": 35
        },
        "id": "uSpDVg2iZRb8",
        "outputId": "39a1da0b-10b6-4f2e-b92a-17f25e0895ae"
      },
      "execution_count": 7,
      "outputs": [
        {
          "output_type": "execute_result",
          "data": {
            "text/plain": [
              "'this will try to return a details of data science masters'"
            ],
            "application/vnd.google.colaboratory.intrinsic+json": {
              "type": "string"
            }
          },
          "metadata": {},
          "execution_count": 7
        }
      ]
    },
    {
      "cell_type": "code",
      "source": [
        "wb=web_dev()\n",
        "wb.student_marks()"
      ],
      "metadata": {
        "colab": {
          "base_uri": "https://localhost:8080/",
          "height": 35
        },
        "id": "5EtKCuS9Ziw5",
        "outputId": "c632c7ac-a092-4d6b-e88d-851fe15a7935"
      },
      "execution_count": 9,
      "outputs": [
        {
          "output_type": "execute_result",
          "data": {
            "text/plain": [
              "'this will return a marks of web dev class'"
            ],
            "application/vnd.google.colaboratory.intrinsic+json": {
              "type": "string"
            }
          },
          "metadata": {},
          "execution_count": 9
        }
      ]
    },
    {
      "cell_type": "markdown",
      "source": [
        "DECORATOR"
      ],
      "metadata": {
        "id": "bL1Md_QlZ9qo"
      }
    },
    {
      "cell_type": "code",
      "source": [
        "def test():\n",
        "  print(\"this is start of my func\")\n",
        "  print(4+7)\n",
        "  print(\"this is end of my func\")"
      ],
      "metadata": {
        "id": "uO84TIkOZpcJ"
      },
      "execution_count": 11,
      "outputs": []
    },
    {
      "cell_type": "code",
      "source": [
        "test()"
      ],
      "metadata": {
        "colab": {
          "base_uri": "https://localhost:8080/"
        },
        "id": "_QHtCkIFaAuX",
        "outputId": "d9760172-7e5c-4d99-963e-921f4d169d9c"
      },
      "execution_count": 12,
      "outputs": [
        {
          "output_type": "stream",
          "name": "stdout",
          "text": [
            "this is start of my func\n",
            "11\n",
            "this is end of my func\n"
          ]
        }
      ]
    },
    {
      "cell_type": "code",
      "source": [
        "def deco(func):\n",
        "  def inner_deco():\n",
        "    print(\"this is start of my func\")\n",
        "    func()\n",
        "    print(\"this is my end of my func\")\n",
        "  return inner_deco"
      ],
      "metadata": {
        "id": "sxJBt547aQ3V"
      },
      "execution_count": 15,
      "outputs": []
    },
    {
      "cell_type": "code",
      "source": [
        "@deco\n",
        "def test1():\n",
        "  print(\"5+6\")"
      ],
      "metadata": {
        "id": "mvFIkJ3GbodV"
      },
      "execution_count": 16,
      "outputs": []
    },
    {
      "cell_type": "code",
      "source": [
        "test1()"
      ],
      "metadata": {
        "colab": {
          "base_uri": "https://localhost:8080/"
        },
        "id": "YyEn_IP6btka",
        "outputId": "3f547824-d0cb-4eca-b3b3-77f22ca1a534"
      },
      "execution_count": 17,
      "outputs": [
        {
          "output_type": "stream",
          "name": "stdout",
          "text": [
            "this is start of my func\n",
            "5+6\n",
            "this is my end of my func\n"
          ]
        }
      ]
    },
    {
      "cell_type": "code",
      "source": [
        "import time\n",
        "def timer_test(func):\n",
        "  def timer_test_inner():\n",
        "    start = time.time()\n",
        "    func()\n",
        "    end=time.time()\n",
        "    print(end-start)\n",
        "  return timer_test_inner"
      ],
      "metadata": {
        "id": "26PEJM0jb19L"
      },
      "execution_count": 24,
      "outputs": []
    },
    {
      "cell_type": "code",
      "source": [
        "@timer_test\n",
        "def test2():\n",
        "  print(45+67)"
      ],
      "metadata": {
        "id": "PiHnENdWct7y"
      },
      "execution_count": 25,
      "outputs": []
    },
    {
      "cell_type": "code",
      "source": [
        "test2()"
      ],
      "metadata": {
        "colab": {
          "base_uri": "https://localhost:8080/"
        },
        "id": "L7RgfY_4c5MU",
        "outputId": "483cae37-4f79-44d5-a931-8b7747cffbe0"
      },
      "execution_count": 26,
      "outputs": [
        {
          "output_type": "stream",
          "name": "stdout",
          "text": [
            "112\n",
            "0.0007710456848144531\n"
          ]
        }
      ]
    },
    {
      "cell_type": "code",
      "source": [
        "@timer_test\n",
        "def test3():\n",
        "  for i in range(100000000):\n",
        "    pass"
      ],
      "metadata": {
        "id": "kbErxwEIc_gH"
      },
      "execution_count": 31,
      "outputs": []
    },
    {
      "cell_type": "code",
      "source": [
        "test3()"
      ],
      "metadata": {
        "colab": {
          "base_uri": "https://localhost:8080/"
        },
        "id": "xh9ds7_3dXpS",
        "outputId": "dfbebbd9-1ca0-4b64-afdf-fa4f391803ce"
      },
      "execution_count": 32,
      "outputs": [
        {
          "output_type": "stream",
          "name": "stdout",
          "text": [
            "2.533869504928589\n"
          ]
        }
      ]
    },
    {
      "cell_type": "code",
      "source": [],
      "metadata": {
        "id": "noFRhepNdY_T"
      },
      "execution_count": null,
      "outputs": []
    }
  ]
}