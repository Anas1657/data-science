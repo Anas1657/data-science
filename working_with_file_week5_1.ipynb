{
  "nbformat": 4,
  "nbformat_minor": 0,
  "metadata": {
    "colab": {
      "provenance": []
    },
    "kernelspec": {
      "name": "python3",
      "display_name": "Python 3"
    },
    "language_info": {
      "name": "python"
    }
  },
  "cells": [
    {
      "cell_type": "code",
      "execution_count": 1,
      "metadata": {
        "id": "Qk5bexzH2J37"
      },
      "outputs": [],
      "source": [
        "f=open(\"test.txt\",'w')"
      ]
    },
    {
      "cell_type": "code",
      "source": [
        "pwd  #present working directory (where the file is availble)"
      ],
      "metadata": {
        "colab": {
          "base_uri": "https://localhost:8080/",
          "height": 35
        },
        "id": "kxq_Is4z27pV",
        "outputId": "c37f4a66-be00-4a8d-8f3a-4d2f2ea979b2"
      },
      "execution_count": 2,
      "outputs": [
        {
          "output_type": "execute_result",
          "data": {
            "text/plain": [
              "'/content'"
            ],
            "application/vnd.google.colaboratory.intrinsic+json": {
              "type": "string"
            }
          },
          "metadata": {},
          "execution_count": 2
        }
      ]
    },
    {
      "cell_type": "code",
      "source": [
        "ls  #show all file present in current working directory"
      ],
      "metadata": {
        "colab": {
          "base_uri": "https://localhost:8080/"
        },
        "id": "p2KuUIWY2_Jp",
        "outputId": "995fd123-6e7d-4c96-e71d-1e91c0462402"
      },
      "execution_count": 3,
      "outputs": [
        {
          "output_type": "stream",
          "name": "stdout",
          "text": [
            "\u001b[0m\u001b[01;34msample_data\u001b[0m/  test.txt\n"
          ]
        }
      ]
    },
    {
      "cell_type": "code",
      "source": [
        "f.write(\"this is my first file\")"
      ],
      "metadata": {
        "colab": {
          "base_uri": "https://localhost:8080/"
        },
        "id": "IA1mQwPh3kBJ",
        "outputId": "4eb892e2-281a-4c90-8341-a6c50fd2dee6"
      },
      "execution_count": 4,
      "outputs": [
        {
          "output_type": "execute_result",
          "data": {
            "text/plain": [
              "21"
            ]
          },
          "metadata": {},
          "execution_count": 4
        }
      ]
    },
    {
      "cell_type": "code",
      "source": [
        "f.close()"
      ],
      "metadata": {
        "id": "0dp2poEU3pdV"
      },
      "execution_count": 6,
      "outputs": []
    },
    {
      "cell_type": "code",
      "source": [
        "data = open(\"test.txt\",\"r\")"
      ],
      "metadata": {
        "id": "tRFPGnqI3sUU"
      },
      "execution_count": 8,
      "outputs": []
    },
    {
      "cell_type": "code",
      "source": [
        "data.read()"
      ],
      "metadata": {
        "colab": {
          "base_uri": "https://localhost:8080/",
          "height": 35
        },
        "id": "cMUqLu5M4HtB",
        "outputId": "887a8dc8-1513-4773-b436-bce51ddc1456"
      },
      "execution_count": 9,
      "outputs": [
        {
          "output_type": "execute_result",
          "data": {
            "text/plain": [
              "'this is my first file'"
            ],
            "application/vnd.google.colaboratory.intrinsic+json": {
              "type": "string"
            }
          },
          "metadata": {},
          "execution_count": 9
        }
      ]
    },
    {
      "cell_type": "code",
      "source": [
        "data.seek(0) #reset the cursor and the position is written it move towards that point and read furhter information"
      ],
      "metadata": {
        "colab": {
          "base_uri": "https://localhost:8080/"
        },
        "id": "t4bvOYDf4JHi",
        "outputId": "c245bedc-7661-496b-eaea-2a1298d96657"
      },
      "execution_count": 11,
      "outputs": [
        {
          "output_type": "execute_result",
          "data": {
            "text/plain": [
              "0"
            ]
          },
          "metadata": {},
          "execution_count": 11
        }
      ]
    },
    {
      "cell_type": "code",
      "source": [
        "data.read()"
      ],
      "metadata": {
        "colab": {
          "base_uri": "https://localhost:8080/",
          "height": 35
        },
        "id": "y6oXO_ed4Thl",
        "outputId": "fe3eaebe-33c6-4fb3-d2fb-1078f904fa25"
      },
      "execution_count": 12,
      "outputs": [
        {
          "output_type": "execute_result",
          "data": {
            "text/plain": [
              "'this is my first file'"
            ],
            "application/vnd.google.colaboratory.intrinsic+json": {
              "type": "string"
            }
          },
          "metadata": {},
          "execution_count": 12
        }
      ]
    },
    {
      "cell_type": "code",
      "source": [
        "data1=open(\"test.txt\",\"r\")"
      ],
      "metadata": {
        "id": "IrQ4FzNp4fsO"
      },
      "execution_count": 13,
      "outputs": []
    },
    {
      "cell_type": "code",
      "source": [
        "for i in data1:  #another method to read a file\n",
        "  print(i)"
      ],
      "metadata": {
        "id": "RmgPWreC44H7"
      },
      "execution_count": 15,
      "outputs": []
    },
    {
      "cell_type": "code",
      "source": [
        "import os"
      ],
      "metadata": {
        "id": "MxmUcOU_47SQ"
      },
      "execution_count": 16,
      "outputs": []
    },
    {
      "cell_type": "code",
      "source": [
        "os.path.getsize(\"test.txt\") #tell size of file"
      ],
      "metadata": {
        "colab": {
          "base_uri": "https://localhost:8080/"
        },
        "id": "-Mc9YP5V5EJF",
        "outputId": "9c0366d9-e7bf-4dc8-803b-27c150020967"
      },
      "execution_count": 19,
      "outputs": [
        {
          "output_type": "execute_result",
          "data": {
            "text/plain": [
              "21"
            ]
          },
          "metadata": {},
          "execution_count": 19
        }
      ]
    },
    {
      "cell_type": "code",
      "source": [
        "#copy of a file\n",
        "import shutil"
      ],
      "metadata": {
        "id": "-rPDkAHC5Htw"
      },
      "execution_count": 20,
      "outputs": []
    },
    {
      "cell_type": "code",
      "source": [
        "shutil.copy(\"test.txt\",\"copytest.txt\")"
      ],
      "metadata": {
        "colab": {
          "base_uri": "https://localhost:8080/",
          "height": 35
        },
        "id": "6wyOxfd95ZDj",
        "outputId": "9970b0ef-fe6d-4ca5-b6cc-cc52becefad8"
      },
      "execution_count": 21,
      "outputs": [
        {
          "output_type": "execute_result",
          "data": {
            "text/plain": [
              "'copytest.txt'"
            ],
            "application/vnd.google.colaboratory.intrinsic+json": {
              "type": "string"
            }
          },
          "metadata": {},
          "execution_count": 21
        }
      ]
    },
    {
      "cell_type": "code",
      "source": [
        "#delete file\n",
        "os.remove(\"copytest.txt\")"
      ],
      "metadata": {
        "id": "anc1GSAk5hQ3"
      },
      "execution_count": 23,
      "outputs": []
    },
    {
      "cell_type": "code",
      "source": [
        "#other way to open a file\n",
        "with open(\"test.txt\",\"r\") as f:\n",
        "  print(f.read())"
      ],
      "metadata": {
        "colab": {
          "base_uri": "https://localhost:8080/"
        },
        "id": "wGIe3ret5q9O",
        "outputId": "84c16a7b-cbbd-41be-c055-6e5f7b29f635"
      },
      "execution_count": 27,
      "outputs": [
        {
          "output_type": "stream",
          "name": "stdout",
          "text": [
            "this is my first file\n"
          ]
        }
      ]
    },
    {
      "cell_type": "code",
      "source": [
        "os.rename(\"test.txt\",\"new.txt\")"
      ],
      "metadata": {
        "id": "RLUzph6_6BjY"
      },
      "execution_count": 28,
      "outputs": []
    },
    {
      "cell_type": "code",
      "source": [
        "data={\n",
        "    \"name\" : \"Anas\",\n",
        "    \"mail_id\" : \"anas@gmail.com\",\n",
        "    \"phone_no\" : \"95652513\",\n",
        "    \"subject\" : [\"data science\",\"big data\",\"data analytics\"]\n",
        "}"
      ],
      "metadata": {
        "id": "7Jsjtld16lTq"
      },
      "execution_count": 29,
      "outputs": []
    },
    {
      "cell_type": "code",
      "source": [
        "import json #store dictionary type of information permanently"
      ],
      "metadata": {
        "id": "AX-rgUML7a5d"
      },
      "execution_count": 30,
      "outputs": []
    },
    {
      "cell_type": "code",
      "source": [
        "with open(\"test1.json\",\"w\") as f :  #when write operation use dump\n",
        "  json.dump(data,f)"
      ],
      "metadata": {
        "id": "C9Ic3_3j7kH5"
      },
      "execution_count": 32,
      "outputs": []
    },
    {
      "cell_type": "code",
      "source": [
        "with open(\"test1.json\",\"r\" ) as f :\n",
        "  data1=json.load(f)"
      ],
      "metadata": {
        "id": "4attr3Fw8E3s"
      },
      "execution_count": 35,
      "outputs": []
    },
    {
      "cell_type": "code",
      "source": [
        "data1"
      ],
      "metadata": {
        "colab": {
          "base_uri": "https://localhost:8080/"
        },
        "id": "KmqtGiBS82ca",
        "outputId": "baf8be38-9b80-4281-b2e9-3255ee7b99d4"
      },
      "execution_count": 36,
      "outputs": [
        {
          "output_type": "execute_result",
          "data": {
            "text/plain": [
              "{'name': 'Anas',\n",
              " 'mail_id': 'anas@gmail.com',\n",
              " 'phone_no': '95652513',\n",
              " 'subject': ['data science', 'big data', 'data analytics']}"
            ]
          },
          "metadata": {},
          "execution_count": 36
        }
      ]
    },
    {
      "cell_type": "code",
      "source": [
        "data1['subject'][1]"
      ],
      "metadata": {
        "colab": {
          "base_uri": "https://localhost:8080/",
          "height": 35
        },
        "id": "XPqC1oAN9IC_",
        "outputId": "88fbfcbf-1448-4935-9a08-0915e8bd1666"
      },
      "execution_count": 37,
      "outputs": [
        {
          "output_type": "execute_result",
          "data": {
            "text/plain": [
              "'big data'"
            ],
            "application/vnd.google.colaboratory.intrinsic+json": {
              "type": "string"
            }
          },
          "metadata": {},
          "execution_count": 37
        }
      ]
    },
    {
      "cell_type": "code",
      "source": [
        "data = [[\"name\",\"email\",\"number\",[\"anas\",\"anas@gmail.com\",95666],[\"emash\",\"emash@gmial.com\",6532]]]"
      ],
      "metadata": {
        "id": "ILFbwapd9Pn_"
      },
      "execution_count": 38,
      "outputs": []
    },
    {
      "cell_type": "code",
      "source": [
        "import csv"
      ],
      "metadata": {
        "id": "m47e2Kn29k-2"
      },
      "execution_count": 39,
      "outputs": []
    },
    {
      "cell_type": "code",
      "source": [
        "with open(\"test3.csv\",'w') as f:\n",
        "  w=csv.writer(f)\n",
        "  for i in data:\n",
        "    w.writerow(i)"
      ],
      "metadata": {
        "id": "jxsubBeP9rEk"
      },
      "execution_count": 40,
      "outputs": []
    },
    {
      "cell_type": "code",
      "source": [
        "with open(\"test3.csv\",'r') as f:\n",
        "  read=csv.reader(f)\n",
        "  for i in read:\n",
        "    print(i)"
      ],
      "metadata": {
        "colab": {
          "base_uri": "https://localhost:8080/"
        },
        "id": "yFRXSHoy96vA",
        "outputId": "be9aa48c-7943-4951-a70d-43dc37e126ff"
      },
      "execution_count": 41,
      "outputs": [
        {
          "output_type": "stream",
          "name": "stdout",
          "text": [
            "['name', 'email', 'number', \"['anas', 'anas@gmail.com', 95666]\", \"['emash', 'emash@gmial.com', 6532]\"]\n"
          ]
        }
      ]
    },
    {
      "cell_type": "code",
      "source": [
        "with open(\"test4.bin\",'wb') as f:\n",
        "  f.write(b\"\\x01\\x02\\x03\")"
      ],
      "metadata": {
        "id": "Ld_wdZZ8-3Gy"
      },
      "execution_count": 46,
      "outputs": []
    },
    {
      "cell_type": "code",
      "source": [
        "with open(\"test4.bin\",\"rb\") as f:\n",
        "  print(f.read())"
      ],
      "metadata": {
        "colab": {
          "base_uri": "https://localhost:8080/"
        },
        "id": "-wQSpnJZ_VEN",
        "outputId": "f8381206-8a3d-492a-aa47-d4dbd7892a93"
      },
      "execution_count": 47,
      "outputs": [
        {
          "output_type": "stream",
          "name": "stdout",
          "text": [
            "b'\\x01\\x02\\x03'\n"
          ]
        }
      ]
    },
    {
      "cell_type": "markdown",
      "source": [
        "Buffered read and write"
      ],
      "metadata": {
        "id": "N1CVP7zNAk0z"
      }
    },
    {
      "cell_type": "code",
      "source": [
        "import io"
      ],
      "metadata": {
        "id": "iibRudRnAUpm"
      },
      "execution_count": 48,
      "outputs": []
    },
    {
      "cell_type": "code",
      "source": [
        "with open(\"test.txt\",\"wb\") as f :\n",
        "  file = io.BufferedWriter(f)\n",
        "  file.write(b\"this is my buffer write /n\")\n",
        "  file.write(b\"this is my second write\")\n",
        "  file.flush()"
      ],
      "metadata": {
        "id": "HHTSO6wfAp8l"
      },
      "execution_count": 57,
      "outputs": []
    },
    {
      "cell_type": "code",
      "source": [
        "with open(\"test.txt\",\"rb\") as f:\n",
        "  file = io.BufferedReader(f)\n",
        "  data=file.read(100)\n",
        "  print(data)"
      ],
      "metadata": {
        "colab": {
          "base_uri": "https://localhost:8080/"
        },
        "id": "TP8zgXYKBDUD",
        "outputId": "7a636522-5a93-4e8a-f2c1-a538c03a85cb"
      },
      "execution_count": 58,
      "outputs": [
        {
          "output_type": "stream",
          "name": "stdout",
          "text": [
            "b'this is my buffer write /nthis is my second write'\n"
          ]
        }
      ]
    },
    {
      "cell_type": "code",
      "source": [],
      "metadata": {
        "id": "w86JNfvoBpE-"
      },
      "execution_count": null,
      "outputs": []
    }
  ]
}