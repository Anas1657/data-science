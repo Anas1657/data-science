{
  "nbformat": 4,
  "nbformat_minor": 0,
  "metadata": {
    "colab": {
      "provenance": []
    },
    "kernelspec": {
      "name": "python3",
      "display_name": "Python 3"
    },
    "language_info": {
      "name": "python"
    }
  },
  "cells": [
    {
      "cell_type": "markdown",
      "source": [
        "Threading\n"
      ],
      "metadata": {
        "id": "mXTF2GU0JagZ"
      }
    },
    {
      "cell_type": "code",
      "execution_count": null,
      "metadata": {
        "id": "V22eW-TBJXw8"
      },
      "outputs": [],
      "source": [
        "import threading"
      ]
    },
    {
      "cell_type": "code",
      "source": [
        "def test(id):\n",
        "  print(\"this is my test id %d \" % id)"
      ],
      "metadata": {
        "id": "4cMck2ZhJxYR"
      },
      "execution_count": null,
      "outputs": []
    },
    {
      "cell_type": "code",
      "source": [
        "test(20)"
      ],
      "metadata": {
        "colab": {
          "base_uri": "https://localhost:8080/"
        },
        "id": "49AVfCbbJ7O0",
        "outputId": "ab3a473f-9e35-4e2b-af38-aaffecb13936"
      },
      "execution_count": null,
      "outputs": [
        {
          "output_type": "stream",
          "name": "stdout",
          "text": [
            "this is my test id 20 \n"
          ]
        }
      ]
    },
    {
      "cell_type": "code",
      "source": [
        "test(1)"
      ],
      "metadata": {
        "colab": {
          "base_uri": "https://localhost:8080/"
        },
        "id": "FFRJUwGQJ9Lj",
        "outputId": "2eda46e5-37f0-44dd-8a1c-02fd7e78eb09"
      },
      "execution_count": null,
      "outputs": [
        {
          "output_type": "stream",
          "name": "stdout",
          "text": [
            "this is my test id 1 \n"
          ]
        }
      ]
    },
    {
      "cell_type": "code",
      "source": [
        "test(3)"
      ],
      "metadata": {
        "colab": {
          "base_uri": "https://localhost:8080/"
        },
        "id": "iXx5BjjKKDQj",
        "outputId": "08066f03-13e0-4c9d-dcec-310bb45e94b3"
      },
      "execution_count": null,
      "outputs": [
        {
          "output_type": "stream",
          "name": "stdout",
          "text": [
            "this is my test id 3 \n"
          ]
        }
      ]
    },
    {
      "cell_type": "code",
      "source": [
        "thread = [threading.Thread(target=test,args=(i,)) for i in [10,1,3]]"
      ],
      "metadata": {
        "id": "W1Q51dgpKEfY"
      },
      "execution_count": null,
      "outputs": []
    },
    {
      "cell_type": "code",
      "source": [
        "thread"
      ],
      "metadata": {
        "colab": {
          "base_uri": "https://localhost:8080/"
        },
        "id": "kbxT6FDkKS3b",
        "outputId": "4ed67063-979a-4ab3-f896-1acb5108cd3f"
      },
      "execution_count": null,
      "outputs": [
        {
          "output_type": "execute_result",
          "data": {
            "text/plain": [
              "[<Thread(Thread-10 (test), initial)>,\n",
              " <Thread(Thread-11 (test), initial)>,\n",
              " <Thread(Thread-12 (test), initial)>]"
            ]
          },
          "metadata": {},
          "execution_count": 9
        }
      ]
    },
    {
      "cell_type": "code",
      "source": [
        "for t in thread:\n",
        "  t.start()"
      ],
      "metadata": {
        "colab": {
          "base_uri": "https://localhost:8080/"
        },
        "id": "YpTW5fZ5KUPp",
        "outputId": "5ccc18f4-cc26-49e6-c0ed-ffaf0cb61149"
      },
      "execution_count": null,
      "outputs": [
        {
          "output_type": "stream",
          "name": "stdout",
          "text": [
            "this is my test id 10 \n",
            "this is my test id 1 this is my test id 3 \n",
            "\n"
          ]
        }
      ]
    },
    {
      "cell_type": "code",
      "source": [
        "import urllib.request\n",
        "def file_download(url,filename):\n",
        "  urllib.request.urlretriever(url,filename)"
      ],
      "metadata": {
        "id": "UnvXrvI6KZ2S"
      },
      "execution_count": null,
      "outputs": []
    },
    {
      "cell_type": "code",
      "source": [
        "file_download('C:\\Users\\Mohammad Anas\\Desktop\\sample1.txt' , 'test1.txt')"
      ],
      "metadata": {
        "colab": {
          "base_uri": "https://localhost:8080/",
          "height": 159
        },
        "id": "f-_PAIwXLLwU",
        "outputId": "42bfc68d-72ab-4a70-c512-e55fcd955572"
      },
      "execution_count": null,
      "outputs": [
        {
          "output_type": "error",
          "ename": "SyntaxError",
          "evalue": "(unicode error) 'unicodeescape' codec can't decode bytes in position 2-3: truncated \\UXXXXXXXX escape (<ipython-input-23-bc213888bb59>, line 1)",
          "traceback": [
            "\u001b[0;36m  File \u001b[0;32m\"<ipython-input-23-bc213888bb59>\"\u001b[0;36m, line \u001b[0;32m1\u001b[0m\n\u001b[0;31m    file_download('C:\\Users\\Mohammad Anas\\Desktop\\sample1.txt' , 'test1.txt')\u001b[0m\n\u001b[0m                                                               ^\u001b[0m\n\u001b[0;31mSyntaxError\u001b[0m\u001b[0;31m:\u001b[0m (unicode error) 'unicodeescape' codec can't decode bytes in position 2-3: truncated \\UXXXXXXXX escape\n"
          ]
        }
      ]
    },
    {
      "cell_type": "code",
      "source": [
        "import time"
      ],
      "metadata": {
        "id": "MUSHO8n6Qup5"
      },
      "execution_count": null,
      "outputs": []
    },
    {
      "cell_type": "code",
      "source": [
        "def test2(x):\n",
        "  for i in range(10):\n",
        "    print(\"test1 print teh value of x %d and print the value of i %d\" %(x,i))\n",
        "    #time.sleep(1)"
      ],
      "metadata": {
        "id": "YTKwBULtMTqm"
      },
      "execution_count": null,
      "outputs": []
    },
    {
      "cell_type": "code",
      "source": [
        "test2(10)"
      ],
      "metadata": {
        "colab": {
          "base_uri": "https://localhost:8080/"
        },
        "id": "MdiBmy7iPU5X",
        "outputId": "9b09d188-f6b6-4d19-b81d-8d4ae1d3c6e9"
      },
      "execution_count": null,
      "outputs": [
        {
          "output_type": "stream",
          "name": "stdout",
          "text": [
            "test1 print teh value of x 10 and print the value of i 0\n",
            "test1 print teh value of x 10 and print the value of i 1\n",
            "test1 print teh value of x 10 and print the value of i 2\n",
            "test1 print teh value of x 10 and print the value of i 3\n",
            "test1 print teh value of x 10 and print the value of i 4\n",
            "test1 print teh value of x 10 and print the value of i 5\n",
            "test1 print teh value of x 10 and print the value of i 6\n",
            "test1 print teh value of x 10 and print the value of i 7\n",
            "test1 print teh value of x 10 and print the value of i 8\n",
            "test1 print teh value of x 10 and print the value of i 9\n"
          ]
        }
      ]
    },
    {
      "cell_type": "code",
      "source": [
        "test2(2)"
      ],
      "metadata": {
        "colab": {
          "base_uri": "https://localhost:8080/"
        },
        "id": "ZW5SOnZRPXzn",
        "outputId": "60422c29-1145-45e5-a19b-f3c8d642b639"
      },
      "execution_count": null,
      "outputs": [
        {
          "output_type": "stream",
          "name": "stdout",
          "text": [
            "test1 print teh value of x 2 and print the value of i 0\n",
            "test1 print teh value of x 2 and print the value of i 1\n",
            "test1 print teh value of x 2 and print the value of i 2\n",
            "test1 print teh value of x 2 and print the value of i 3\n",
            "test1 print teh value of x 2 and print the value of i 4\n",
            "test1 print teh value of x 2 and print the value of i 5\n",
            "test1 print teh value of x 2 and print the value of i 6\n",
            "test1 print teh value of x 2 and print the value of i 7\n",
            "test1 print teh value of x 2 and print the value of i 8\n",
            "test1 print teh value of x 2 and print the value of i 9\n"
          ]
        }
      ]
    },
    {
      "cell_type": "code",
      "source": [
        "thread2=[threading.Thread(target=test2 , args=(i,)) for i in [100, 10,20,5]]"
      ],
      "metadata": {
        "id": "opacM_c4P8fz"
      },
      "execution_count": null,
      "outputs": []
    },
    {
      "cell_type": "code",
      "source": [
        "for t in thread2:\n",
        "  t.start()"
      ],
      "metadata": {
        "colab": {
          "base_uri": "https://localhost:8080/"
        },
        "id": "BBQ0n7fvRGGw",
        "outputId": "dd88cb97-742e-40d2-9f72-b6483a0fdbca"
      },
      "execution_count": null,
      "outputs": [
        {
          "output_type": "stream",
          "name": "stdout",
          "text": [
            "test1 print teh value of x 100 and print the value of i 0\n",
            "test1 print teh value of x 100 and print the value of i 1\n",
            "test1 print teh value of x 100 and print the value of i 2\n",
            "test1 print teh value of x 100 and print the value of i 3\n",
            "test1 print teh value of x 100 and print the value of i 4\n",
            "test1 print teh value of x 100 and print the value of i 5\n",
            "test1 print teh value of x 100 and print the value of i 6\n",
            "test1 print teh value of x 100 and print the value of i 7\n",
            "test1 print teh value of x 100 and print the value of i 8\n",
            "test1 print teh value of x 100 and print the value of i 9\n",
            "test1 print teh value of x 10 and print the value of i 0\n",
            "test1 print teh value of x 10 and print the value of i 1\n",
            "test1 print teh value of x 10 and print the value of i 2\n",
            "test1 print teh value of x 10 and print the value of i 3\n",
            "test1 print teh value of x 10 and print the value of i 4\n",
            "test1 print teh value of x 10 and print the value of i 5test1 print teh value of x 20 and print the value of i 0\n",
            "test1 print teh value of x 20 and print the value of i 1\n",
            "test1 print teh value of x 20 and print the value of i 2\n",
            "test1 print teh value of x 20 and print the value of i 3\n",
            "test1 print teh value of x 20 and print the value of i 4\n",
            "test1 print teh value of x 20 and print the value of i 5\n",
            "test1 print teh value of x 20 and print the value of i 6\n",
            "test1 print teh value of x 20 and print the value of i 7\n",
            "test1 print teh value of x 20 and print the value of i 8\n",
            "test1 print teh value of x 20 and print the value of i 9\n",
            "test1 print teh value of x 5 and print the value of i 0\n",
            "test1 print teh value of x 10 and print the value of i 6\n",
            "test1 print teh value of x 10 and print the value of i 7\n",
            "\n",
            "test1 print teh value of x 5 and print the value of i 1\n",
            "test1 print teh value of x 5 and print the value of i 2\n",
            "test1 print teh value of x 5 and print the value of i 3\n",
            "test1 print teh value of x 5 and print the value of i 4\n",
            "test1 print teh value of x 5 and print the value of i 5\n",
            "test1 print teh value of x 5 and print the value of i 6\n",
            "test1 print teh value of x 5 and print the value of i 7\n",
            "test1 print teh value of x 5 and print the value of i 8\n",
            "test1 print teh value of x 5 and print the value of i 9\n",
            "test1 print teh value of x 10 and print the value of i 8\n",
            "test1 print teh value of x 10 and print the value of i 9\n"
          ]
        }
      ]
    },
    {
      "cell_type": "code",
      "source": [
        "shared_var=0\n",
        "lock_var=threading.Lock()\n",
        "def test3(x):\n",
        "  global shared_var\n",
        "  with lock_var:\n",
        "    shared_var=shared_var + 1\n",
        "    print(\"value of x %d and value of sahared_var %d\" %(x,shared_var))\n",
        "    time.sleep(1)"
      ],
      "metadata": {
        "id": "cdUThWFGRKY1"
      },
      "execution_count": null,
      "outputs": []
    },
    {
      "cell_type": "code",
      "source": [
        "test3(1)"
      ],
      "metadata": {
        "colab": {
          "base_uri": "https://localhost:8080/"
        },
        "id": "E_znV6bVSOo8",
        "outputId": "106e6c29-3cd6-4df2-9ec4-e39667a1f43f"
      },
      "execution_count": null,
      "outputs": [
        {
          "output_type": "stream",
          "name": "stdout",
          "text": [
            "value of x 1 and value of sahared_var 1\n"
          ]
        }
      ]
    },
    {
      "cell_type": "code",
      "source": [
        "shared_var=0\n",
        "lock_var=threading.Lock()\n",
        "def test4(x):\n",
        "  global shared_var\n",
        "  with lock_var :\n",
        "\n",
        "    shared_var=shared_var + 1\n",
        "    print(\"value of x %d and value of sahared_var %d\" %(x, shared_var))\n",
        "    time.sleep(1)\n",
        "thread5=[threading.Thread(target=test4,args=(i,)) for i  in [1,2,3,4]]\n",
        "for t in thread5:\n",
        "  t.start()"
      ],
      "metadata": {
        "colab": {
          "base_uri": "https://localhost:8080/"
        },
        "id": "6-ajcJwrSQLA",
        "outputId": "54093838-4fe0-4fa9-c8d2-2c1106192bce"
      },
      "execution_count": null,
      "outputs": [
        {
          "output_type": "stream",
          "name": "stdout",
          "text": [
            "value of x 1 and value of sahared_var 1\n"
          ]
        }
      ]
    },
    {
      "cell_type": "code",
      "source": [],
      "metadata": {
        "id": "eMTz49DkT7OG"
      },
      "execution_count": 7,
      "outputs": []
    },
    {
      "cell_type": "code",
      "source": [],
      "metadata": {
        "colab": {
          "base_uri": "https://localhost:8080/"
        },
        "id": "xezAiIl_5i9J",
        "outputId": "d09a031c-f7e5-4cf8-99e3-e7abcd727ca5"
      },
      "execution_count": 6,
      "outputs": [
        {
          "output_type": "stream",
          "name": "stdout",
          "text": [
            "this is multiprocessing program\n",
            "this is my main program\n",
            "this is multiprocessing program\n",
            "this is my main program\n",
            "this is multiprocessing program\n",
            "this is my main program\n",
            "this is multiprocessing program\n",
            "this is my main program\n",
            "this is multiprocessing program\n",
            "this is my main program\n",
            "this is multiprocessing program\n",
            "this is my main program\n",
            "this is multiprocessing program\n",
            "this is my main program\n",
            "this is multiprocessing program\n",
            "this is my main program\n",
            "this is multiprocessing program\n",
            "this is my main program\n",
            "this is multiprocessing program\n",
            "this is my main program\n",
            "this is multiprocessing program\n",
            "this is my main program\n",
            "this is multiprocessing program\n",
            "this is my main program\n",
            "this is multiprocessing program\n",
            "this is my main program\n",
            "this is multiprocessing program\n",
            "this is my main program\n",
            "this is multiprocessing program\n",
            "this is my main program\n",
            "this is multiprocessing program\n",
            "this is my main program\n",
            "this is multiprocessing program\n",
            "this is my main program\n",
            "this is multiprocessing program\n",
            "this is my main program\n",
            "this is multiprocessing program\n",
            "this is my main program\n",
            "this is multiprocessing program\n",
            "this is my main program\n",
            "this is multiprocessing program\n",
            "this is my main program\n",
            "this is multiprocessing program\n",
            "this is my main program\n",
            "this is multiprocessing program\n",
            "this is my main program\n",
            "this is multiprocessing program\n",
            "this is my main program\n",
            "this is multiprocessing program\n",
            "this is my main program\n",
            "this is multiprocessing program\n",
            "this is my main program\n",
            "this is multiprocessing program\n",
            "this is my main program\n",
            "this is multiprocessing program\n",
            "this is my main program\n",
            "this is multiprocessing program\n",
            "this is my main program\n",
            "this is multiprocessing program\n",
            "this is my main program\n",
            "this is multiprocessing program\n",
            "this is my main program\n",
            "this is multiprocessing program\n",
            "this is my main program\n",
            "this is multiprocessing program\n",
            "this is my main program\n",
            "this is multiprocessing program\n",
            "this is my main program\n",
            "this is multiprocessing program\n",
            "this is my main program\n",
            "this is multiprocessing program\n",
            "this is my main program\n",
            "this is multiprocessing program\n",
            "this is my main program\n",
            "this is multiprocessing program\n",
            "this is my main program\n",
            "this is multiprocessing program\n",
            "this is my main program\n",
            "this is multiprocessing program\n",
            "this is my main program\n",
            "this is multiprocessing program\n",
            "this is my main program\n",
            "this is multiprocessing program\n",
            "this is my main program\n",
            "this is multiprocessing program\n",
            "this is my main program\n",
            "this is multiprocessing program\n",
            "this is my main program\n",
            "this is multiprocessing program\n",
            "this is my main program\n",
            "this is multiprocessing program\n",
            "this is my main program\n",
            "this is multiprocessing program\n",
            "this is my main program\n",
            "this is multiprocessing program\n",
            "this is my main program\n",
            "this is multiprocessing program\n",
            "this is my main program\n",
            "this is multiprocessing program\n",
            "this is my main program\n",
            "this is multiprocessing program\n",
            "this is my main program\n",
            "this is multiprocessing program\n",
            "this is my main program\n",
            "this is multiprocessing program\n",
            "this is my main program\n",
            "this is multiprocessing program\n",
            "this is my main program\n",
            "this is multiprocessing program\n",
            "this is my main program\n",
            "this is multiprocessing program\n",
            "this is my main program\n",
            "this is multiprocessing program\n",
            "this is my main program\n",
            "this is multiprocessing program\n",
            "this is my main program\n",
            "this is multiprocessing program\n",
            "this is my main program\n",
            "this is multiprocessing program\n",
            "this is my main program\n",
            "this is multiprocessing program\n",
            "this is my main program\n",
            "this is multiprocessing program\n",
            "this is my main program\n",
            "this is multiprocessing programthis is my main program\n",
            "\n",
            "this is multiprocessing program\n",
            "this is my main program\n",
            "this is multiprocessing program\n",
            "this is my main program\n",
            "this is multiprocessing program\n",
            "this is my main program\n",
            "this is multiprocessing program\n",
            "this is my main program\n",
            "this is multiprocessing program\n",
            "this is my main program\n",
            "this is multiprocessing program\n",
            "this is my main program\n",
            "this is multiprocessing programthis is my main program\n",
            "\n",
            "this is multiprocessing program\n",
            "this is my main program\n",
            "this is multiprocessing program\n",
            "this is my main program\n",
            "this is multiprocessing program\n",
            "this is my main program\n",
            "this is multiprocessing program\n",
            "this is my main program\n",
            "this is multiprocessing program\n",
            "this is my main program\n",
            "this is multiprocessing program\n",
            "this is my main program\n",
            "this is multiprocessing program\n",
            "this is my main program\n",
            "this is multiprocessing program\n",
            "this is my main program\n",
            "this is multiprocessing program\n",
            "this is my main program\n",
            "this is multiprocessing program\n",
            "this is my main program\n",
            "this is multiprocessing program\n",
            "this is my main program\n",
            "this is multiprocessing program\n",
            "this is my main program\n",
            "this is multiprocessing program\n",
            "this is my main program\n",
            "this is multiprocessing program\n",
            "this is my main program\n",
            "this is multiprocessing program\n",
            "this is my main program\n",
            "this is multiprocessing program\n",
            "this is my main program\n",
            "this is multiprocessing program\n",
            "this is my main program\n",
            "this is multiprocessing program\n",
            "this is my main program\n",
            "this is multiprocessing program\n",
            "this is my main program\n",
            "this is multiprocessing program\n",
            "this is my main program\n",
            "this is multiprocessing program\n",
            "this is my main program\n",
            "this is multiprocessing program\n",
            "this is my main program\n",
            "this is multiprocessing program\n",
            "this is my main program\n",
            "this is multiprocessing program\n",
            "this is my main program\n",
            "this is multiprocessing program\n",
            "this is my main program\n",
            "this is multiprocessing program\n",
            "this is my main program\n",
            "this is multiprocessing program\n",
            "this is my main program\n",
            "this is multiprocessing program\n",
            "this is my main program\n",
            "this is multiprocessing program\n",
            "this is my main program\n",
            "this is multiprocessing program\n",
            "this is my main program\n",
            "this is multiprocessing program\n",
            "this is my main program\n",
            "this is multiprocessing program\n",
            "this is my main program\n",
            "this is multiprocessing program\n",
            "this is my main program\n",
            "this is multiprocessing program\n",
            "this is my main program\n",
            "this is multiprocessing program\n",
            "this is my main program\n"
          ]
        }
      ]
    },
    {
      "cell_type": "code",
      "source": [],
      "metadata": {
        "id": "7_zviZY66PCQ"
      },
      "execution_count": null,
      "outputs": []
    }
  ]
}